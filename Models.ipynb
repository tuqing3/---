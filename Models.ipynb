{
 "cells": [
  {
   "cell_type": "markdown",
   "metadata": {},
   "source": [
    "# 模型拟合"
   ]
  },
  {
   "cell_type": "code",
   "execution_count": 1,
   "metadata": {
    "ExecuteTime": {
     "end_time": "2019-11-22T16:59:50.196958Z",
     "start_time": "2019-11-22T16:57:26.086731Z"
    }
   },
   "outputs": [
    {
     "name": "stderr",
     "output_type": "stream",
     "text": [
      "Using TensorFlow backend.\n"
     ]
    }
   ],
   "source": [
    "# import lib\n",
    "import pandas as pd\n",
    "import numpy as np\n",
    "import xgboost as xgb\n",
    "from sklearn.model_selection import train_test_split, StratifiedKFold, RandomizedSearchCV\n",
    "from sklearn.decomposition import PCA\n",
    "from sklearn.metrics import roc_auc_score, confusion_matrix, roc_curve, auc\n",
    "from sklearn.preprocessing import StandardScaler\n",
    "from sklearn.metrics import balanced_accuracy_score\n",
    "from sklearn.naive_bayes import BernoulliNB\n",
    "from sklearn.tree import DecisionTreeClassifier\n",
    "from sklearn.ensemble import AdaBoostClassifier\n",
    "from sklearn import svm\n",
    "from imblearn.ensemble import EasyEnsembleClassifier, BalancedBaggingClassifier"
   ]
  },
  {
   "cell_type": "code",
   "execution_count": 2,
   "metadata": {
    "ExecuteTime": {
     "end_time": "2019-11-22T16:59:53.492557Z",
     "start_time": "2019-11-22T16:59:50.199632Z"
    }
   },
   "outputs": [],
   "source": [
    "import matplotlib.pyplot as plt\n",
    "import matplotlib as mpl\n",
    "mpl.style.use('fivethirtyeight')"
   ]
  },
  {
   "cell_type": "code",
   "execution_count": 3,
   "metadata": {
    "ExecuteTime": {
     "end_time": "2019-11-22T16:59:57.906551Z",
     "start_time": "2019-11-22T16:59:53.495153Z"
    }
   },
   "outputs": [],
   "source": [
    "from sklearn.model_selection import KFold\n",
    "from sklearn.metrics import roc_auc_score\n",
    "from xgboost import plot_importance\n",
    "from sklearn.metrics import make_scorer\n",
    "import time\n",
    "from hyperopt import fmin, hp, tpe, Trials, space_eval, STATUS_OK, STATUS_RUNNING"
   ]
  },
  {
   "cell_type": "code",
   "execution_count": 4,
   "metadata": {
    "ExecuteTime": {
     "end_time": "2019-11-22T16:59:57.915029Z",
     "start_time": "2019-11-22T16:59:57.909159Z"
    }
   },
   "outputs": [],
   "source": [
    "import os\n",
    "import gc"
   ]
  },
  {
   "cell_type": "code",
   "execution_count": 5,
   "metadata": {
    "ExecuteTime": {
     "end_time": "2019-11-22T17:00:03.476313Z",
     "start_time": "2019-11-22T16:59:57.917931Z"
    }
   },
   "outputs": [],
   "source": [
    "# import data\n",
    "X = pd.read_csv('../data/features/trainX.csv')\n",
    "y = pd.read_csv('../data/features/trainY.csv', header=None)\n",
    "testX = pd.read_csv('../data/features/testX.csv')"
   ]
  },
  {
   "cell_type": "code",
   "execution_count": 6,
   "metadata": {
    "ExecuteTime": {
     "end_time": "2019-11-22T17:00:03.553175Z",
     "start_time": "2019-11-22T17:00:03.478425Z"
    }
   },
   "outputs": [],
   "source": [
    "ids = testX.id\n",
    "testX = testX.drop(['id'], axis=1)"
   ]
  },
  {
   "cell_type": "code",
   "execution_count": 7,
   "metadata": {
    "ExecuteTime": {
     "end_time": "2019-11-22T17:00:03.905488Z",
     "start_time": "2019-11-22T17:00:03.555988Z"
    }
   },
   "outputs": [],
   "source": [
    "# ROC\n",
    "import matplotlib.pyplot as plt\n",
    "def plotROC(y_test, y_score):\n",
    "    fpr = dict()\n",
    "    tpr = dict()\n",
    "    roc_auc = dict()\n",
    "    fpr[2], tpr[2], _ = roc_curve(y_test, y_score)\n",
    "    roc_auc[2] = auc(fpr[2], tpr[2])\n",
    "\n",
    "    # Compute micro-average ROC curve and ROC area\n",
    "    fpr[\"micro\"], tpr[\"micro\"], _ = roc_curve(y_test, y_score)\n",
    "    roc_auc[\"micro\"] = auc(fpr[\"micro\"], tpr[\"micro\"])\n",
    "    # plot it\n",
    "    plt.figure()\n",
    "    lw = 2\n",
    "    plt.plot(fpr[2], tpr[2], color='darkorange',\n",
    "             lw=lw, label='ROC curve (area = %0.2f)' % roc_auc[2])\n",
    "    plt.plot([0, 1], [0, 1], color='navy', lw=lw, linestyle='--')\n",
    "    plt.xlim([0.0, 1.0])\n",
    "    plt.ylim([0.0, 1.05])\n",
    "    plt.xlabel('False Positive Rate')\n",
    "    plt.ylabel('True Positive Rate')\n",
    "    plt.title('Receiver operating characteristic example')\n",
    "    plt.legend(loc=\"lower right\")\n",
    "    plt.show()"
   ]
  },
  {
   "cell_type": "code",
   "execution_count": 8,
   "metadata": {
    "ExecuteTime": {
     "end_time": "2019-11-22T17:00:05.325396Z",
     "start_time": "2019-11-22T17:00:03.908905Z"
    }
   },
   "outputs": [],
   "source": [
    "X_train, X_test, y_train, y_test = train_test_split(\n",
    "    X, y, test_size=0.2, stratify=y, random_state=42)"
   ]
  },
  {
   "cell_type": "markdown",
   "metadata": {},
   "source": [
    "注意这里一定要进行分层抽样，否则会仅有的极少数的正样本大部分出现在训练集或者测试集。"
   ]
  },
  {
   "cell_type": "code",
   "execution_count": 9,
   "metadata": {
    "ExecuteTime": {
     "end_time": "2019-11-22T17:00:05.476890Z",
     "start_time": "2019-11-22T17:00:05.327966Z"
    }
   },
   "outputs": [
    {
     "data": {
      "text/plain": [
       "0    136.687093\n",
       "dtype: float64"
      ]
     },
     "execution_count": 9,
     "metadata": {},
     "output_type": "execute_result"
    }
   ],
   "source": [
    "np.sum(y_train == 0) / np.sum(y_train == 1)"
   ]
  },
  {
   "cell_type": "markdown",
   "metadata": {},
   "source": [
    "## XGBoost[0.774493]"
   ]
  },
  {
   "cell_type": "markdown",
   "metadata": {},
   "source": [
    "### 简单尝试"
   ]
  },
  {
   "cell_type": "code",
   "execution_count": 10,
   "metadata": {
    "ExecuteTime": {
     "end_time": "2019-11-22T17:00:13.152179Z",
     "start_time": "2019-11-22T17:00:05.480987Z"
    },
    "scrolled": false
   },
   "outputs": [
    {
     "name": "stderr",
     "output_type": "stream",
     "text": [
      "/home/shensir/anaconda3/lib/python3.6/site-packages/sklearn/preprocessing/label.py:219: DataConversionWarning: A column-vector y was passed when a 1d array was expected. Please change the shape of y to (n_samples, ), for example using ravel().\n",
      "  y = column_or_1d(y, warn=True)\n",
      "/home/shensir/anaconda3/lib/python3.6/site-packages/sklearn/preprocessing/label.py:252: DataConversionWarning: A column-vector y was passed when a 1d array was expected. Please change the shape of y to (n_samples, ), for example using ravel().\n",
      "  y = column_or_1d(y, warn=True)\n"
     ]
    },
    {
     "data": {
      "text/plain": [
       "XGBClassifier(base_score=0.5, booster='gbtree', colsample_bylevel=1,\n",
       "              colsample_bynode=1, colsample_bytree=1, eval_metric='auc',\n",
       "              gamma=0, learning_rate=0.05, max_delta_step=0, max_depth=3,\n",
       "              min_child_weight=1, missing=None, n_estimators=150, n_jobs=-1,\n",
       "              nthread=None, objective='binary:logistic', random_state=42,\n",
       "              reg_alpha=0, reg_lambda=1, scale_pos_weight=136, seed=None,\n",
       "              silent=None, subsample=1, tree_method='hist', verbosity=1)"
      ]
     },
     "execution_count": 10,
     "metadata": {},
     "output_type": "execute_result"
    }
   ],
   "source": [
    "xgb_model = xgb.XGBClassifier(objective=\"binary:logistic\", \n",
    "                              random_state=42, \n",
    "                              eval_metric=\"auc\",\n",
    "                              learning_rate=0.05,\n",
    "                              max_depth=3,\n",
    "                              n_estimators=150,\n",
    "                              n_jobs=-1,\n",
    "                              tree_method = 'hist',\n",
    "                              scale_pos_weight=136)  # sum(y == 0) / sum(y == 1)\n",
    "\n",
    "xgb_model.fit(X_train, y_train, eval_set=[(X_test, y_test)], verbose=0)"
   ]
  },
  {
   "cell_type": "code",
   "execution_count": 11,
   "metadata": {
    "ExecuteTime": {
     "end_time": "2019-11-22T17:00:14.738528Z",
     "start_time": "2019-11-22T17:00:13.157662Z"
    }
   },
   "outputs": [
    {
     "data": {
      "image/png": "[encoded data removed]",
      "text/plain": [
       "<Figure size 432x288 with 1 Axes>"
      ]
     },
     "metadata": {
      "needs_background": "light"
     },
     "output_type": "display_data"
    }
   ],
   "source": [
    "# training auc\n",
    "# roc_auc_score(y_train, xgb_model.predict_proba(X_train)[:,1])\n",
    "plotROC(y_train, xgb_model.predict_proba(X_train)[:,1])"
   ]
  },
  {
   "cell_type": "code",
   "execution_count": 12,
   "metadata": {
    "ExecuteTime": {
     "end_time": "2019-11-22T17:00:14.906710Z",
     "start_time": "2019-11-22T17:00:14.741210Z"
    }
   },
   "outputs": [
    {
     "data": {
      "text/plain": [
       "0.6991692698397557"
      ]
     },
     "execution_count": 12,
     "metadata": {},
     "output_type": "execute_result"
    }
   ],
   "source": [
    "# test auc\n",
    "y_pred = xgb_model.predict_proba(X_test)[:,1]\n",
    "roc_auc_score(y_test, y_pred)"
   ]
  },
  {
   "cell_type": "code",
   "execution_count": 13,
   "metadata": {
    "ExecuteTime": {
     "end_time": "2019-11-22T17:00:15.238849Z",
     "start_time": "2019-11-22T17:00:14.909959Z"
    }
   },
   "outputs": [
    {
     "data": {
      "image/png": "[encoded data removed]",
      "text/plain": [
       "<Figure size 432x288 with 1 Axes>"
      ]
     },
     "metadata": {
      "needs_background": "light"
     },
     "output_type": "display_data"
    }
   ],
   "source": [
    "plotROC(y_test, y_pred)"
   ]
  },
  {
   "cell_type": "code",
   "execution_count": 14,
   "metadata": {
    "ExecuteTime": {
     "end_time": "2019-11-22T17:00:15.496666Z",
     "start_time": "2019-11-22T17:00:15.241902Z"
    }
   },
   "outputs": [
    {
     "data": {
      "text/plain": [
       "array([[18648,  7562],\n",
       "       [   84,   108]])"
      ]
     },
     "execution_count": 14,
     "metadata": {},
     "output_type": "execute_result"
    }
   ],
   "source": [
    "# confusion matrix\n",
    "y_pred_class = xgb_model.predict(X_test)\n",
    "confusion_matrix(y_test, y_pred_class)"
   ]
  },
  {
   "cell_type": "markdown",
   "metadata": {},
   "source": [
    "### 调参"
   ]
  },
  {
   "cell_type": "code",
   "execution_count": 15,
   "metadata": {
    "ExecuteTime": {
     "end_time": "2019-11-22T17:00:15.558197Z",
     "start_time": "2019-11-22T17:00:15.505389Z"
    }
   },
   "outputs": [],
   "source": [
    "def objective(params):\n",
    "    time1 = time.time()\n",
    "    params = {\n",
    "        'max_depth': int(params['max_depth']),\n",
    "        'gamma': \"{:.3f}\".format(params['gamma']),\n",
    "        'subsample': \"{:.2f}\".format(params['subsample']),\n",
    "        'reg_alpha': \"{:.3f}\".format(params['reg_alpha']),\n",
    "        'reg_lambda': \"{:.3f}\".format(params['reg_lambda']),\n",
    "        'learning_rate': \"{:.3f}\".format(params['learning_rate']),\n",
    "        'num_leaves': '{:.3f}'.format(params['num_leaves']),\n",
    "        'colsample_bytree': '{:.3f}'.format(params['colsample_bytree']),\n",
    "        'min_child_samples': '{:.3f}'.format(params['min_child_samples']),\n",
    "        'feature_fraction': '{:.3f}'.format(params['feature_fraction']),\n",
    "        'bagging_fraction': '{:.3f}'.format(params['bagging_fraction'])\n",
    "    }\n",
    "\n",
    "    print(\"\\n############## New Run ################\")\n",
    "    print(f\"params = {params}\")\n",
    "    FOLDS = 5\n",
    "    count = 1\n",
    "    skf = StratifiedKFold(n_splits=FOLDS, shuffle=True, random_state=42)\n",
    "    score_mean = 0\n",
    "    for tr_idx, val_idx in skf.split(X_train, y_train.values.ravel()):\n",
    "        clf = xgb.XGBClassifier(\n",
    "            objective=\"binary:logistic\",\n",
    "            n_estimators=300, random_state=4, verbose=True, \n",
    "            tree_method='hist', \n",
    "            scale_pos_weight=136,\n",
    "            n_jobs=-1,\n",
    "            **params\n",
    "        )\n",
    "\n",
    "        X_tr, X_vl = X_train.iloc[tr_idx, :], X_train.iloc[val_idx, :]\n",
    "        y_tr, y_vl = y_train.iloc[tr_idx], y_train.iloc[val_idx]\n",
    "        \n",
    "        clf.fit(X_tr, y_tr.values.ravel())\n",
    "        score = make_scorer(roc_auc_score, needs_proba=True)(clf, X_vl, y_vl)\n",
    "        score_mean += score\n",
    "        print(f'{count} CV - score: {round(score, 4)}')\n",
    "        count += 1\n",
    "    time2 = time.time() - time1\n",
    "    print(f\"Total Time Run: {round(time2 / 60,2)}\")\n",
    "    gc.collect()\n",
    "    print(f'Mean ROC_AUC: {score_mean / FOLDS}')\n",
    "    del X_tr, X_vl, y_tr, y_vl, clf, score\n",
    "    return -(score_mean / FOLDS)\n"
   ]
  },
  {
   "cell_type": "code",
   "execution_count": 16,
   "metadata": {
    "ExecuteTime": {
     "end_time": "2019-11-22T17:00:15.799325Z",
     "start_time": "2019-11-22T17:00:15.568986Z"
    }
   },
   "outputs": [],
   "source": [
    "space = {\n",
    "    # The maximum depth of a tree, same as GBM.\n",
    "    # Used to control over-fitting as higher depth will allow model \n",
    "    # to learn relations very specific to a particular sample.\n",
    "    # Should be tuned using CV.\n",
    "    # Typical values: 3-10\n",
    "    'max_depth': hp.quniform('max_depth', 2, 6, 1),\n",
    "    \n",
    "    # reg_alpha: L1 regularization term. L1 regularization encourages sparsity \n",
    "    # (meaning pulling weights to 0). It can be more useful when the objective\n",
    "    # is logistic regression since you might need help with feature selection.\n",
    "    'reg_alpha':  hp.uniform('reg_alpha', 0.01, 0.4),\n",
    "    \n",
    "    # reg_lambda: L2 regularization term. L2 encourages smaller weights, this\n",
    "    # approach can be more useful in tree-models where zeroing \n",
    "    # features might not make much sense.\n",
    "    'reg_lambda': hp.uniform('reg_lambda', 0.01, 0.4),\n",
    "    \n",
    "    # eta: Analogous to learning rate in GBM\n",
    "    # Makes the model more robust by shrinking the weights on each step\n",
    "    # Typical final values to be used: 0.01-0.2\n",
    "    'learning_rate': hp.uniform('learning_rate', 0.01, 0.2),\n",
    "    \n",
    "    # colsample_bytree: Similar to max_features in GBM. Denotes the \n",
    "    # fraction of columns to be randomly samples for each tree.\n",
    "    # Typical values: 0.5-1\n",
    "    'colsample_bytree': hp.uniform('colsample_bytree', 0.5, 1),\n",
    "    \n",
    "    # A node is split only when the resulting split gives a positive\n",
    "    # reduction in the loss function. Gamma specifies the \n",
    "    # minimum loss reduction required to make a split.\n",
    "    # Makes the algorithm conservative. The values can vary depending on the loss function and should be tuned.\n",
    "    'gamma': hp.uniform('gamma', 0.01, .7),\n",
    "    \n",
    "    # more increases accuracy, but may lead to overfitting.\n",
    "    # num_leaves: the number of leaf nodes to use. Having a large number \n",
    "    # of leaves will improve accuracy, but will also lead to overfitting.\n",
    "    'num_leaves': hp.choice('num_leaves', list(range(10, 100, 10))),\n",
    "    \n",
    "    # specifies the minimum samples per leaf node.\n",
    "    # the minimum number of samples (data) to group into a leaf. \n",
    "    # The parameter can greatly assist with overfitting: larger sample\n",
    "    # sizes per leaf will reduce overfitting (but may lead to under-fitting).\n",
    "    'min_child_samples': hp.choice('min_child_samples', list(range(10, 200, 20))),\n",
    "    \n",
    "    # subsample: represents a fraction of the rows (observations) to be \n",
    "    # considered when building each subtree. Tianqi Chen and Carlos Guestrin\n",
    "    # in their paper A Scalable Tree Boosting System recommend \n",
    "    'subsample': hp.choice('subsample', [0.7, 0.8, 0.9, 1]),\n",
    "    \n",
    "    # randomly select a fraction of the features.\n",
    "    # feature_fraction: controls the subsampling of features used\n",
    "    # for training (as opposed to subsampling the actual training data in \n",
    "    # the case of bagging). Smaller fractions reduce overfitting.\n",
    "    'feature_fraction': hp.uniform('feature_fraction', 0.7, 1),\n",
    "    \n",
    "    # randomly bag or subsample training data.\n",
    "    'bagging_fraction': hp.uniform('bagging_fraction', 0.7, 1)\n",
    "    \n",
    "    # bagging_fraction and bagging_freq: enables bagging (subsampling) \n",
    "    # of the training data. Both values need to be set for bagging to be used.\n",
    "    # The frequency controls how often (iteration) bagging is used. Smaller\n",
    "    # fractions and frequencies reduce overfitting.\n",
    "}"
   ]
  },
  {
   "cell_type": "code",
   "execution_count": 17,
   "metadata": {
    "ExecuteTime": {
     "end_time": "2019-11-22T17:23:14.596796Z",
     "start_time": "2019-11-22T17:00:15.801170Z"
    },
    "scrolled": true
   },
   "outputs": [
    {
     "name": "stdout",
     "output_type": "stream",
     "text": [
      "                                                    \n",
      "############## New Run ################\n",
      "params = {'max_depth': 5, 'gamma': '0.650', 'subsample': '0.80', 'reg_alpha': '0.042', 'reg_lambda': '0.278', 'learning_rate': '0.046', 'num_leaves': '60.000', 'colsample_bytree': '0.881', 'min_child_samples': '70.000', 'feature_fraction': '0.820', 'bagging_fraction': '0.907'}\n",
      "1 CV - score: 0.6735                                \n",
      "2 CV - score: 0.6872                                \n",
      "3 CV - score: 0.6526                                \n",
      "4 CV - score: 0.6548                                \n",
      "5 CV - score: 0.6647                                \n",
      "Total Time Run: 1.31                                \n",
      "Mean ROC_AUC: 0.6665786596663059                    \n",
      "                                                                              \n",
      "############## New Run ################\n",
      "params = {'max_depth': 4, 'gamma': '0.328', 'subsample': '0.90', 'reg_alpha': '0.214', 'reg_lambda': '0.047', 'learning_rate': '0.044', 'num_leaves': '80.000', 'colsample_bytree': '0.816', 'min_child_samples': '10.000', 'feature_fraction': '0.796', 'bagging_fraction': '0.892'}\n",
      "1 CV - score: 0.6819                                                          \n",
      "2 CV - score: 0.7094                                                          \n",
      "3 CV - score: 0.6791                                                          \n",
      "4 CV - score: 0.6911                                                          \n",
      "5 CV - score: 0.674                                                           \n",
      "Total Time Run: 1.37                                                          \n",
      "Mean ROC_AUC: 0.6870882543629604                                              \n",
      "                                                                              \n",
      "############## New Run ################\n",
      "params = {'max_depth': 5, 'gamma': '0.584', 'subsample': '0.90', 'reg_alpha': '0.111', 'reg_lambda': '0.190', 'learning_rate': '0.189', 'num_leaves': '50.000', 'colsample_bytree': '0.796', 'min_child_samples': '90.000', 'feature_fraction': '0.863', 'bagging_fraction': '0.924'}\n",
      "1 CV - score: 0.6345                                                          \n",
      "2 CV - score: 0.6263                                                          \n",
      "3 CV - score: 0.5763                                                          \n",
      "4 CV - score: 0.5861                                                          \n",
      "5 CV - score: 0.6262                                                          \n",
      "Total Time Run: 1.32                                                          \n",
      "Mean ROC_AUC: 0.6098614266828566                                              \n",
      "                                                                              \n",
      "############## New Run ################\n",
      "params = {'max_depth': 3, 'gamma': '0.689', 'subsample': '0.80', 'reg_alpha': '0.106', 'reg_lambda': '0.340', 'learning_rate': '0.147', 'num_leaves': '90.000', 'colsample_bytree': '0.844', 'min_child_samples': '90.000', 'feature_fraction': '0.992', 'bagging_fraction': '0.814'}\n",
      "1 CV - score: 0.6624                                                          \n",
      "2 CV - score: 0.6871                                                          \n",
      "3 CV - score: 0.6362                                                          \n",
      "4 CV - score: 0.6482                                                          \n",
      "5 CV - score: 0.6525                                                          \n",
      "Total Time Run: 1.08                                                          \n",
      "Mean ROC_AUC: 0.6572650714454532                                              \n",
      "                                                                              \n",
      "############## New Run ################\n",
      "params = {'max_depth': 4, 'gamma': '0.114', 'subsample': '0.70', 'reg_alpha': '0.354', 'reg_lambda': '0.291', 'learning_rate': '0.100', 'num_leaves': '60.000', 'colsample_bytree': '0.946', 'min_child_samples': '70.000', 'feature_fraction': '0.968', 'bagging_fraction': '0.876'}\n",
      "1 CV - score: 0.669                                                           \n",
      "2 CV - score: 0.6787                                                          \n",
      "3 CV - score: 0.6349                                                          \n",
      "4 CV - score: 0.6494                                                          \n",
      "5 CV - score: 0.6459                                                          \n",
      "Total Time Run: 1.16                                                          \n",
      "Mean ROC_AUC: 0.6555594239569399                                              \n",
      "                                                                              \n",
      "############## New Run ################\n",
      "params = {'max_depth': 3, 'gamma': '0.052', 'subsample': '0.70', 'reg_alpha': '0.136', 'reg_lambda': '0.078', 'learning_rate': '0.057', 'num_leaves': '80.000', 'colsample_bytree': '0.670', 'min_child_samples': '190.000', 'feature_fraction': '0.857', 'bagging_fraction': '0.906'}\n",
      "1 CV - score: 0.6893                                                          \n",
      "2 CV - score: 0.7296                                                          \n",
      "3 CV - score: 0.67                                                            \n",
      "4 CV - score: 0.6913                                                          \n",
      "5 CV - score: 0.678                                                           \n",
      "Total Time Run: 1.05                                                          \n",
      "Mean ROC_AUC: 0.6916401607470669                                              \n",
      "                                                                              \n",
      "############## New Run ################\n",
      "params = {'max_depth': 6, 'gamma': '0.424', 'subsample': '0.70', 'reg_alpha': '0.252', 'reg_lambda': '0.282', 'learning_rate': '0.106', 'num_leaves': '10.000', 'colsample_bytree': '0.948', 'min_child_samples': '30.000', 'feature_fraction': '0.809', 'bagging_fraction': '0.860'}\n",
      "1 CV - score: 0.627                                                           \n",
      "2 CV - score: 0.6379                                                          \n",
      "3 CV - score: 0.6073                                                          \n",
      "4 CV - score: 0.5916                                                          \n",
      "5 CV - score: 0.6413                                                          \n",
      "Total Time Run: 1.37                                                          \n",
      "Mean ROC_AUC: 0.6210275183324871                                              \n",
      "                                                                              \n",
      "############## New Run ################\n",
      "params = {'max_depth': 5, 'gamma': '0.198', 'subsample': '0.90', 'reg_alpha': '0.157', 'reg_lambda': '0.398', 'learning_rate': '0.113', 'num_leaves': '50.000', 'colsample_bytree': '0.917', 'min_child_samples': '30.000', 'feature_fraction': '0.862', 'bagging_fraction': '0.720'}\n",
      "1 CV - score: 0.657                                                           \n",
      "2 CV - score: 0.6635                                                          \n",
      "3 CV - score: 0.6176                                                          \n",
      "4 CV - score: 0.6034                                                          \n",
      "5 CV - score: 0.6363                                                          \n",
      "Total Time Run: 1.31                                                          \n",
      "Mean ROC_AUC: 0.6355393746664983                                              \n",
      "                                                                              \n",
      "############## New Run ################\n",
      "params = {'max_depth': 6, 'gamma': '0.338', 'subsample': '0.90', 'reg_alpha': '0.049', 'reg_lambda': '0.267', 'learning_rate': '0.123', 'num_leaves': '70.000', 'colsample_bytree': '0.981', 'min_child_samples': '110.000', 'feature_fraction': '0.889', 'bagging_fraction': '0.714'}\n",
      "1 CV - score: 0.6345                                                          \n",
      "2 CV - score: 0.6092                                                          \n",
      "3 CV - score: 0.5864                                                          \n",
      "4 CV - score: 0.5762                                                          \n",
      "5 CV - score: 0.6298                                                          \n",
      "Total Time Run: 1.46                                                          \n",
      "Mean ROC_AUC: 0.6072078239805212                                              \n",
      "                                                                              \n",
      "############## New Run ################\n",
      "params = {'max_depth': 4, 'gamma': '0.177', 'subsample': '1.00', 'reg_alpha': '0.032', 'reg_lambda': '0.092', 'learning_rate': '0.093', 'num_leaves': '80.000', 'colsample_bytree': '0.609', 'min_child_samples': '130.000', 'feature_fraction': '0.982', 'bagging_fraction': '0.947'}\n",
      "1 CV - score: 0.6677                                                          \n",
      "2 CV - score: 0.6757                                                          \n",
      "3 CV - score: 0.6323                                                          \n",
      "4 CV - score: 0.6322                                                          \n",
      "5 CV - score: 0.6538                                                          \n",
      "Total Time Run: 0.74                                                          \n",
      "Mean ROC_AUC: 0.6523228669883636                                              \n",
      "                                                                               \n",
      "############## New Run ################\n",
      "params = {'max_depth': 6, 'gamma': '0.185', 'subsample': '0.90', 'reg_alpha': '0.047', 'reg_lambda': '0.134', 'learning_rate': '0.116', 'num_leaves': '80.000', 'colsample_bytree': '0.748', 'min_child_samples': '190.000', 'feature_fraction': '0.842', 'bagging_fraction': '0.729'}\n",
      "1 CV - score: 0.6288                                                           \n",
      "2 CV - score: 0.6453                                                           \n",
      "3 CV - score: 0.6013                                                           \n",
      "4 CV - score: 0.601                                                            \n",
      "5 CV - score: 0.632                                                            \n",
      "Total Time Run: 1.44                                                           \n",
      "Mean ROC_AUC: 0.6216918891663042                                               \n",
      "                                                                               \n",
      "############## New Run ################\n",
      "params = {'max_depth': 3, 'gamma': '0.366', 'subsample': '0.80', 'reg_alpha': '0.264', 'reg_lambda': '0.393', 'learning_rate': '0.121', 'num_leaves': '70.000', 'colsample_bytree': '0.812', 'min_child_samples': '170.000', 'feature_fraction': '0.970', 'bagging_fraction': '0.914'}\n",
      "1 CV - score: 0.6736                                                           \n",
      "2 CV - score: 0.6969                                                           \n",
      "3 CV - score: 0.6363                                                           \n",
      "4 CV - score: 0.6518                                                           \n",
      "5 CV - score: 0.6635                                                           \n",
      "Total Time Run: 1.09                                                           \n",
      "Mean ROC_AUC: 0.6644253736473246                                               \n",
      "                                                                               \n",
      "############## New Run ################\n",
      "params = {'max_depth': 5, 'gamma': '0.090', 'subsample': '0.70', 'reg_alpha': '0.100', 'reg_lambda': '0.015', 'learning_rate': '0.034', 'num_leaves': '50.000', 'colsample_bytree': '0.749', 'min_child_samples': '150.000', 'feature_fraction': '0.993', 'bagging_fraction': '0.830'}\n",
      "1 CV - score: 0.6825                                                           \n",
      "2 CV - score: 0.7006                                                           \n",
      "3 CV - score: 0.6604                                                           \n",
      "4 CV - score: 0.671                                                            \n",
      "5 CV - score: 0.6654                                                           \n",
      "Total Time Run: 1.24                                                           \n",
      "Mean ROC_AUC: 0.6759702001351637                                               \n",
      "                                                                               \n",
      "############## New Run ################\n",
      "params = {'max_depth': 3, 'gamma': '0.656', 'subsample': '0.80', 'reg_alpha': '0.243', 'reg_lambda': '0.071', 'learning_rate': '0.020', 'num_leaves': '40.000', 'colsample_bytree': '0.911', 'min_child_samples': '130.000', 'feature_fraction': '0.792', 'bagging_fraction': '0.973'}\n",
      "1 CV - score: 0.7005                                                           \n",
      "2 CV - score: 0.7416                                                           \n",
      "3 CV - score: 0.6959                                                           \n",
      "4 CV - score: 0.7135                                                           \n",
      "5 CV - score: 0.6756                                                           \n",
      "Total Time Run: 1.1                                                            \n",
      "Mean ROC_AUC: 0.705432825658324                                                \n",
      "                                                                               \n",
      "############## New Run ################\n",
      "params = {'max_depth': 4, 'gamma': '0.582', 'subsample': '1.00', 'reg_alpha': '0.073', 'reg_lambda': '0.381', 'learning_rate': '0.151', 'num_leaves': '10.000', 'colsample_bytree': '0.664', 'min_child_samples': '170.000', 'feature_fraction': '0.758', 'bagging_fraction': '0.933'}\n",
      "1 CV - score: 0.6488                                                          \n",
      "2 CV - score: 0.66                                                            \n",
      "3 CV - score: 0.6217                                                          \n",
      "4 CV - score: 0.6117                                                          \n",
      "5 CV - score: 0.6472                                                          \n",
      "Total Time Run: 0.68                                                          \n",
      "Mean ROC_AUC: 0.6378862831627894                                              \n",
      "                                                                              \n",
      "############## New Run ################\n",
      "params = {'max_depth': 3, 'gamma': '0.104', 'subsample': '1.00', 'reg_alpha': '0.311', 'reg_lambda': '0.321', 'learning_rate': '0.125', 'num_leaves': '60.000', 'colsample_bytree': '0.909', 'min_child_samples': '110.000', 'feature_fraction': '0.730', 'bagging_fraction': '0.807'}\n",
      "1 CV - score: 0.6815                                                          \n",
      "2 CV - score: 0.7048                                                          \n",
      "3 CV - score: 0.6443                                                          \n",
      "4 CV - score: 0.6577                                                          \n",
      "5 CV - score: 0.6529                                                          \n",
      "Total Time Run: 0.6                                                           \n",
      "Mean ROC_AUC: 0.6682564089863383                                              \n",
      "                                                                              \n",
      "############## New Run ################\n",
      "params = {'max_depth': 4, 'gamma': '0.197', 'subsample': '1.00', 'reg_alpha': '0.327', 'reg_lambda': '0.184', 'learning_rate': '0.114', 'num_leaves': '40.000', 'colsample_bytree': '0.805', 'min_child_samples': '130.000', 'feature_fraction': '0.989', 'bagging_fraction': '0.856'}\n",
      "1 CV - score: 0.661                                                           \n",
      "2 CV - score: 0.6788                                                          \n",
      "3 CV - score: 0.6173                                                          \n",
      "4 CV - score: 0.6064                                                          \n",
      "5 CV - score: 0.6377                                                          \n",
      "Total Time Run: 0.68                                                          \n",
      "Mean ROC_AUC: 0.6402658427559034                                              \n",
      "                                                                              \n",
      "############## New Run ################\n",
      "params = {'max_depth': 5, 'gamma': '0.158', 'subsample': '0.90', 'reg_alpha': '0.156', 'reg_lambda': '0.075', 'learning_rate': '0.189', 'num_leaves': '30.000', 'colsample_bytree': '0.923', 'min_child_samples': '70.000', 'feature_fraction': '0.740', 'bagging_fraction': '0.897'}\n"
     ]
    },
    {
     "name": "stdout",
     "output_type": "stream",
     "text": [
      "1 CV - score: 0.6206                                                          \n",
      "2 CV - score: 0.6234                                                          \n",
      "3 CV - score: 0.5948                                                          \n",
      "4 CV - score: 0.5721                                                          \n",
      "5 CV - score: 0.6213                                                          \n",
      "Total Time Run: 1.32                                                          \n",
      "Mean ROC_AUC: 0.606425962702059                                               \n",
      "                                                                              \n",
      "############## New Run ################\n",
      "params = {'max_depth': 4, 'gamma': '0.280', 'subsample': '0.70', 'reg_alpha': '0.103', 'reg_lambda': '0.221', 'learning_rate': '0.190', 'num_leaves': '60.000', 'colsample_bytree': '0.894', 'min_child_samples': '50.000', 'feature_fraction': '0.848', 'bagging_fraction': '0.710'}\n",
      "1 CV - score: 0.6244                                                          \n",
      "2 CV - score: 0.6365                                                          \n",
      "3 CV - score: 0.5934                                                          \n",
      "4 CV - score: 0.6096                                                          \n",
      "5 CV - score: 0.6292                                                          \n",
      "Total Time Run: 1.15                                                          \n",
      "Mean ROC_AUC: 0.6186302353451454                                              \n",
      "                                                                              \n",
      "############## New Run ################\n",
      "params = {'max_depth': 6, 'gamma': '0.688', 'subsample': '0.70', 'reg_alpha': '0.168', 'reg_lambda': '0.127', 'learning_rate': '0.103', 'num_leaves': '20.000', 'colsample_bytree': '0.999', 'min_child_samples': '110.000', 'feature_fraction': '0.933', 'bagging_fraction': '0.813'}\n",
      "1 CV - score: 0.6332                                                          \n",
      "2 CV - score: 0.6494                                                          \n",
      "3 CV - score: 0.6031                                                          \n",
      "4 CV - score: 0.6027                                                          \n",
      "5 CV - score: 0.642                                                           \n",
      "Total Time Run: 1.43                                                          \n",
      "Mean ROC_AUC: 0.6260752421685942                                              \n",
      "100%|██████████| 20/20 [22:58<00:00, 69.24s/it, best loss: -0.705432825658324]\n"
     ]
    }
   ],
   "source": [
    "# Set algoritm parameters\n",
    "best = fmin(fn=objective,\n",
    "            space=space,\n",
    "            algo=tpe.suggest,\n",
    "            max_evals=20)\n",
    "\n",
    "# Print best parameters\n",
    "best_params = space_eval(space, best)"
   ]
  },
  {
   "cell_type": "code",
   "execution_count": 18,
   "metadata": {
    "ExecuteTime": {
     "end_time": "2019-11-22T17:23:14.606311Z",
     "start_time": "2019-11-22T17:23:14.599267Z"
    }
   },
   "outputs": [
    {
     "name": "stdout",
     "output_type": "stream",
     "text": [
      "BEST PARAMS:  {'bagging_fraction': 0.9734434050691314, 'colsample_bytree': 0.9111958704779868, 'feature_fraction': 0.7923171042287418, 'gamma': 0.6556407536163212, 'learning_rate': 0.019735040386522542, 'max_depth': 3, 'min_child_samples': 130, 'num_leaves': 40, 'reg_alpha': 0.24259740906632582, 'reg_lambda': 0.07061464676596146, 'subsample': 0.8}\n"
     ]
    }
   ],
   "source": [
    "best_params['max_depth'] = int(best_params['max_depth'])\n",
    "print(\"BEST PARAMS: \", best_params)"
   ]
  },
  {
   "cell_type": "code",
   "execution_count": 19,
   "metadata": {
    "ExecuteTime": {
     "end_time": "2019-11-22T17:23:30.549672Z",
     "start_time": "2019-11-22T17:23:14.610850Z"
    }
   },
   "outputs": [
    {
     "data": {
      "text/plain": [
       "XGBClassifier(bagging_fraction=0.9734434050691314, base_score=0.5,\n",
       "              booster='gbtree', colsample_bylevel=1, colsample_bynode=1,\n",
       "              colsample_bytree=0.9111958704779868, eval_metric='auc',\n",
       "              feature_fraction=0.7923171042287418, gamma=0.6556407536163212,\n",
       "              learning_rate=0.019735040386522542, max_delta_step=0, max_depth=3,\n",
       "              min_child_samples=130, min_child_weight=1, missing=None,\n",
       "              n_estimators=300, n_jobs=-1, nthread=None, num_leaves=40,\n",
       "              objective='binary:logistic', random_state=0,\n",
       "              reg_alpha=0.24259740906632582, reg_lambda=0.07061464676596146,\n",
       "              scale_pos_weight=136, seed=None, silent=None, subsample=0.8,\n",
       "              tree_method='hist', verbosity=1)"
      ]
     },
     "execution_count": 19,
     "metadata": {},
     "output_type": "execute_result"
    }
   ],
   "source": [
    "clf = xgb.XGBClassifier(\n",
    "    n_estimators=300,\n",
    "    **best_params,\n",
    "    tree_method='hist',\n",
    "    eval_metric=\"auc\",\n",
    "    n_jobs=-1,\n",
    "    scale_pos_weight=136\n",
    ")\n",
    "clf.fit(X_train, y_train.values.ravel())"
   ]
  },
  {
   "cell_type": "code",
   "execution_count": 20,
   "metadata": {
    "ExecuteTime": {
     "end_time": "2019-11-22T17:23:31.712616Z",
     "start_time": "2019-11-22T17:23:30.552554Z"
    }
   },
   "outputs": [
    {
     "data": {
      "image/png": "[encoded data removed]",
      "text/plain": [
       "<Figure size 432x288 with 1 Axes>"
      ]
     },
     "metadata": {
      "needs_background": "light"
     },
     "output_type": "display_data"
    }
   ],
   "source": [
    "y_train_pred = clf.predict_proba(X_train)[:,1]\n",
    "plotROC(y_train, y_train_pred)"
   ]
  },
  {
   "cell_type": "code",
   "execution_count": 21,
   "metadata": {
    "ExecuteTime": {
     "end_time": "2019-11-22T17:23:32.291565Z",
     "start_time": "2019-11-22T17:23:31.716545Z"
    }
   },
   "outputs": [
    {
     "data": {
      "image/png": "[encoded data removed]",
      "text/plain": [
       "<Figure size 432x288 with 1 Axes>"
      ]
     },
     "metadata": {
      "needs_background": "light"
     },
     "output_type": "display_data"
    }
   ],
   "source": [
    "y_pred = clf.predict_proba(X_test)[:,1]\n",
    "plotROC(y_test, y_pred)"
   ]
  },
  {
   "cell_type": "code",
   "execution_count": 22,
   "metadata": {
    "ExecuteTime": {
     "end_time": "2019-11-22T17:23:52.429001Z",
     "start_time": "2019-11-22T17:23:32.294353Z"
    }
   },
   "outputs": [
    {
     "data": {
      "text/plain": [
       "XGBClassifier(bagging_fraction=0.9734434050691314, base_score=0.5,\n",
       "              booster='gbtree', colsample_bylevel=1, colsample_bynode=1,\n",
       "              colsample_bytree=0.9111958704779868, eval_metric='auc',\n",
       "              feature_fraction=0.7923171042287418, gamma=0.6556407536163212,\n",
       "              learning_rate=0.019735040386522542, max_delta_step=0, max_depth=3,\n",
       "              min_child_samples=130, min_child_weight=1, missing=None,\n",
       "              n_estimators=300, n_jobs=-1, nthread=None, num_leaves=40,\n",
       "              objective='binary:logistic', random_state=0,\n",
       "              reg_alpha=0.24259740906632582, reg_lambda=0.07061464676596146,\n",
       "              scale_pos_weight=136, seed=None, silent=None, subsample=0.8,\n",
       "              tree_method='hist', verbosity=1)"
      ]
     },
     "execution_count": 22,
     "metadata": {},
     "output_type": "execute_result"
    }
   ],
   "source": [
    "# train with all data\n",
    "clf.fit(X, y.values.ravel(), verbose=1)"
   ]
  },
  {
   "cell_type": "code",
   "execution_count": 23,
   "metadata": {
    "ExecuteTime": {
     "end_time": "2019-11-22T17:23:53.689457Z",
     "start_time": "2019-11-22T17:23:52.437417Z"
    }
   },
   "outputs": [
    {
     "data": {
      "text/plain": [
       "0.7760489431907484"
      ]
     },
     "execution_count": 23,
     "metadata": {},
     "output_type": "execute_result"
    }
   ],
   "source": [
    "# train auc\n",
    "y_pred = clf.predict_proba(X)[:,1]\n",
    "roc_auc_score(y, y_pred)"
   ]
  },
  {
   "cell_type": "code",
   "execution_count": 24,
   "metadata": {
    "ExecuteTime": {
     "end_time": "2019-11-22T17:23:54.049584Z",
     "start_time": "2019-11-22T17:23:53.694563Z"
    }
   },
   "outputs": [
    {
     "data": {
      "image/png": "[encoded data removed]",
      "text/plain": [
       "<Figure size 432x288 with 1 Axes>"
      ]
     },
     "metadata": {
      "needs_background": "light"
     },
     "output_type": "display_data"
    }
   ],
   "source": [
    "plotROC(y, y_pred)"
   ]
  },
  {
   "cell_type": "code",
   "execution_count": 25,
   "metadata": {
    "ExecuteTime": {
     "end_time": "2019-11-22T17:23:54.420533Z",
     "start_time": "2019-11-22T17:23:54.052456Z"
    }
   },
   "outputs": [],
   "source": [
    "# pridict[线上，0.774493]\n",
    "result = pd.DataFrame()\n",
    "result['id'] = ids\n",
    "result['target'] = clf.predict_proba(testX)[:,1]\n",
    "result.to_csv('../submissions/xgb.csv', index=None)"
   ]
  },
  {
   "cell_type": "markdown",
   "metadata": {},
   "source": [
    "## Easy Ensemble Classifier[0.76]"
   ]
  },
  {
   "cell_type": "markdown",
   "metadata": {},
   "source": [
    "### 简单尝试"
   ]
  },
  {
   "cell_type": "code",
   "execution_count": 26,
   "metadata": {
    "ExecuteTime": {
     "end_time": "2019-11-22T17:26:02.038301Z",
     "start_time": "2019-11-22T17:23:54.422835Z"
    },
    "scrolled": true
   },
   "outputs": [
    {
     "name": "stderr",
     "output_type": "stream",
     "text": [
      "/home/shensir/anaconda3/lib/python3.6/site-packages/sklearn/ensemble/bagging.py:623: DataConversionWarning: A column-vector y was passed when a 1d array was expected. Please change the shape of y to (n_samples, ), for example using ravel().\n",
      "  y = column_or_1d(y, warn=True)\n",
      "[Parallel(n_jobs=4)]: Done   2 out of   4 | elapsed:  2.1min remaining:  2.1min\n",
      "[Parallel(n_jobs=4)]: Done   4 out of   4 | elapsed:  2.1min finished\n"
     ]
    },
    {
     "data": {
      "text/plain": [
       "EasyEnsembleClassifier(base_estimator=None, n_estimators=300, n_jobs=-1,\n",
       "                       random_state=0, replacement=False,\n",
       "                       sampling_strategy='auto', verbose=1, warm_start=False)"
      ]
     },
     "execution_count": 26,
     "metadata": {},
     "output_type": "execute_result"
    }
   ],
   "source": [
    "eec = EasyEnsembleClassifier(random_state=0,\n",
    "                            n_estimators=300,\n",
    "                            n_jobs=-1,\n",
    "                            verbose=1)\n",
    "eec.fit(X_train, y_train)"
   ]
  },
  {
   "cell_type": "code",
   "execution_count": 27,
   "metadata": {
    "ExecuteTime": {
     "end_time": "2019-11-22T17:33:51.317391Z",
     "start_time": "2019-11-22T17:26:02.041942Z"
    }
   },
   "outputs": [
    {
     "name": "stderr",
     "output_type": "stream",
     "text": [
      "[Parallel(n_jobs=4)]: Done   2 out of   4 | elapsed:  7.7min remaining:  7.7min\n",
      "[Parallel(n_jobs=4)]: Done   4 out of   4 | elapsed:  7.8min finished\n"
     ]
    },
    {
     "data": {
      "image/png": "[encoded data removed]",
      "text/plain": [
       "<Figure size 432x288 with 1 Axes>"
      ]
     },
     "metadata": {
      "needs_background": "light"
     },
     "output_type": "display_data"
    }
   ],
   "source": [
    "# train\n",
    "y_train_pred = eec.predict_proba(X_train)[:, 1]\n",
    "plotROC(y_train, y_train_pred)"
   ]
  },
  {
   "cell_type": "code",
   "execution_count": 28,
   "metadata": {
    "ExecuteTime": {
     "end_time": "2019-11-22T17:35:47.031808Z",
     "start_time": "2019-11-22T17:33:51.320719Z"
    }
   },
   "outputs": [
    {
     "name": "stderr",
     "output_type": "stream",
     "text": [
      "[Parallel(n_jobs=4)]: Done   2 out of   4 | elapsed:  1.9min remaining:  1.9min\n",
      "[Parallel(n_jobs=4)]: Done   4 out of   4 | elapsed:  1.9min finished\n"
     ]
    },
    {
     "data": {
      "image/png": "[encoded data removed]",
      "text/plain": [
       "<Figure size 432x288 with 1 Axes>"
      ]
     },
     "metadata": {
      "needs_background": "light"
     },
     "output_type": "display_data"
    }
   ],
   "source": [
    "# y_pred_class = eec.predict(X_test)\n",
    "# confusion_matrix(y_test, y_pred_class)\n",
    "y_pred = eec.predict_proba(X_test)[:, 1]\n",
    "plotROC(y_test, y_pred)"
   ]
  },
  {
   "cell_type": "markdown",
   "metadata": {},
   "source": [
    "### 调参"
   ]
  },
  {
   "cell_type": "code",
   "execution_count": 29,
   "metadata": {
    "ExecuteTime": {
     "end_time": "2019-11-22T17:35:47.048950Z",
     "start_time": "2019-11-22T17:35:47.034439Z"
    }
   },
   "outputs": [],
   "source": [
    "def objectiveEasy(params):\n",
    "    time1 = time.time()\n",
    "    params = {\n",
    "        'base_estimator': params['base_estimator'](),\n",
    "        'sampling_strategy': params['sampling_strategy'],\n",
    "    }\n",
    "\n",
    "    print(\"\\n############## New Run ################\")\n",
    "    print(f\"params = {params}\")\n",
    "    FOLDS = 5\n",
    "    count = 1\n",
    "    skf = StratifiedKFold(n_splits=FOLDS, shuffle=True, random_state=42)\n",
    "    score_mean = 0\n",
    "    for tr_idx, val_idx in skf.split(X_train, y_train.values.ravel()):\n",
    "        clf = EasyEnsembleClassifier(**params,\n",
    "                                    random_state=0,\n",
    "                                    n_estimators=300,\n",
    "                                    n_jobs=-1,\n",
    "                                    verbose=0)\n",
    "\n",
    "        X_tr, X_vl = X_train.iloc[tr_idx, :], X_train.iloc[val_idx, :]\n",
    "        y_tr, y_vl = y_train.iloc[tr_idx], y_train.iloc[val_idx]\n",
    "        \n",
    "        clf.fit(X_tr, y_tr.values.ravel())\n",
    "        score = make_scorer(roc_auc_score, needs_proba=True)(clf, X_vl, y_vl)\n",
    "        score_mean += score\n",
    "        print(f'{count} CV - score: {round(score, 4)}')\n",
    "        count += 1\n",
    "    time2 = time.time() - time1\n",
    "    print(f\"Total Time Run: {round(time2 / 60,2)}\")\n",
    "    gc.collect()\n",
    "    print(f'Mean ROC_AUC: {score_mean / FOLDS}')\n",
    "    del X_tr, X_vl, y_tr, y_vl, clf, score\n",
    "    return -(score_mean / FOLDS)\n"
   ]
  },
  {
   "cell_type": "code",
   "execution_count": 30,
   "metadata": {
    "ExecuteTime": {
     "end_time": "2019-11-22T17:35:47.188149Z",
     "start_time": "2019-11-22T17:35:47.053258Z"
    }
   },
   "outputs": [],
   "source": [
    "spaceEasy = {\n",
    "    'base_estimator': hp.choice('base_estimator', [AdaBoostClassifier, \n",
    "                                                  DecisionTreeClassifier,\n",
    "                                                  BernoulliNB]),\n",
    "    'sampling_strategy': hp.choice('sampling_strategy', [0.7, 0.8, 0.9,'majority',\n",
    "                                                        'not minority','not majority',\n",
    "                                                        'all'])\n",
    "}"
   ]
  },
  {
   "cell_type": "code",
   "execution_count": 31,
   "metadata": {
    "ExecuteTime": {
     "end_time": "2019-11-23T00:56:27.148848Z",
     "start_time": "2019-11-22T17:35:47.190612Z"
    },
    "scrolled": true
   },
   "outputs": [
    {
     "name": "stdout",
     "output_type": "stream",
     "text": [
      "                                                    \n",
      "############## New Run ################\n",
      "params = {'base_estimator': DecisionTreeClassifier(class_weight=None, criterion='gini', max_depth=None,\n",
      "                       max_features=None, max_leaf_nodes=None,\n",
      "                       min_impurity_decrease=0.0, min_impurity_split=None,\n",
      "                       min_samples_leaf=1, min_samples_split=2,\n",
      "                       min_weight_fraction_leaf=0.0, presort=False,\n",
      "                       random_state=None, splitter='best'), 'sampling_strategy': 0.7}\n",
      "1 CV - score: 0.6681                                \n",
      "2 CV - score: 0.7042                                \n",
      "3 CV - score: 0.658                                 \n",
      "4 CV - score: 0.6659                                \n",
      "5 CV - score: 0.6622                                \n",
      "Total Time Run: 6.33                                \n",
      "Mean ROC_AUC: 0.6716679846839447                    \n",
      "                                                                                 \n",
      "############## New Run ################\n",
      "params = {'base_estimator': BernoulliNB(alpha=1.0, binarize=0.0, class_prior=None, fit_prior=True), 'sampling_strategy': 0.9}\n",
      "1 CV - score: 0.6577                                                             \n",
      "2 CV - score: 0.7253                                                             \n",
      "3 CV - score: 0.6809                                                             \n",
      "4 CV - score: 0.6933                                                             \n",
      "5 CV - score: 0.6652                                                             \n",
      "Total Time Run: 7.43                                                             \n",
      "Mean ROC_AUC: 0.6844764742149689                                                 \n",
      "                                                                                 \n",
      "############## New Run ################\n",
      "params = {'base_estimator': DecisionTreeClassifier(class_weight=None, criterion='gini', max_depth=None,\n",
      "                       max_features=None, max_leaf_nodes=None,\n",
      "                       min_impurity_decrease=0.0, min_impurity_split=None,\n",
      "                       min_samples_leaf=1, min_samples_split=2,\n",
      "                       min_weight_fraction_leaf=0.0, presort=False,\n",
      "                       random_state=None, splitter='best'), 'sampling_strategy': 'not minority'}\n",
      "1 CV - score: 0.6807                                                             \n",
      "2 CV - score: 0.7036                                                             \n",
      "3 CV - score: 0.6694                                                             \n",
      "4 CV - score: 0.6719                                                             \n",
      "5 CV - score: 0.6628                                                             \n",
      "Total Time Run: 6.3                                                              \n",
      "Mean ROC_AUC: 0.6776774763410994                                                 \n",
      "                                                                                 \n",
      "############## New Run ################\n",
      "params = {'base_estimator': BernoulliNB(alpha=1.0, binarize=0.0, class_prior=None, fit_prior=True), 'sampling_strategy': 'all'}\n",
      "1 CV - score: 0.6576                                                             \n",
      "2 CV - score: 0.7254                                                             \n",
      "3 CV - score: 0.6809                                                             \n",
      "4 CV - score: 0.6935                                                             \n",
      "5 CV - score: 0.6651                                                             \n",
      "Total Time Run: 7.34                                                             \n",
      "Mean ROC_AUC: 0.684490306165839                                                  \n",
      "                                                                                 \n",
      "############## New Run ################\n",
      "params = {'base_estimator': BernoulliNB(alpha=1.0, binarize=0.0, class_prior=None, fit_prior=True), 'sampling_strategy': 'not minority'}\n",
      "1 CV - score: 0.6576                                                            \n",
      "2 CV - score: 0.7254                                                            \n",
      "3 CV - score: 0.6809                                                            \n",
      "4 CV - score: 0.6935                                                            \n",
      "5 CV - score: 0.6651                                                            \n",
      "Total Time Run: 7.31                                                            \n",
      "Mean ROC_AUC: 0.684490306165839                                                 \n",
      "                                                                                \n",
      "############## New Run ################\n",
      "params = {'base_estimator': AdaBoostClassifier(algorithm='SAMME.R', base_estimator=None, learning_rate=1.0,\n",
      "                   n_estimators=50, random_state=None), 'sampling_strategy': 0.8}\n",
      "1 CV - score: 0.6798                                                            \n",
      "2 CV - score: 0.7274                                                            \n",
      "3 CV - score: 0.6833                                                            \n",
      "4 CV - score: 0.7096                                                            \n",
      "5 CV - score: 0.6582                                                            \n",
      "Total Time Run: 16.15                                                           \n",
      "Mean ROC_AUC: 0.6916605628090979                                                \n",
      "                                                                                 \n",
      "############## New Run ################\n",
      "params = {'base_estimator': BernoulliNB(alpha=1.0, binarize=0.0, class_prior=None, fit_prior=True), 'sampling_strategy': 0.8}\n",
      "1 CV - score: 0.6576                                                             \n",
      "2 CV - score: 0.7255                                                             \n",
      "3 CV - score: 0.6808                                                             \n",
      "4 CV - score: 0.6932                                                             \n",
      "5 CV - score: 0.6651                                                             \n",
      "Total Time Run: 7.33                                                             \n",
      "Mean ROC_AUC: 0.6844313280120199                                                 \n",
      "                                                                                 \n",
      "############## New Run ################\n",
      "params = {'base_estimator': BernoulliNB(alpha=1.0, binarize=0.0, class_prior=None, fit_prior=True), 'sampling_strategy': 0.8}\n",
      "1 CV - score: 0.6576                                                             \n",
      "2 CV - score: 0.7255                                                             \n",
      "3 CV - score: 0.6808                                                               \n",
      "4 CV - score: 0.6932                                                               \n",
      "5 CV - score: 0.6651                                                               \n",
      "Total Time Run: 7.38                                                               \n",
      "Mean ROC_AUC: 0.6844313280120199                                                   \n",
      "                                                                                   \n",
      "############## New Run ################\n",
      "params = {'base_estimator': AdaBoostClassifier(algorithm='SAMME.R', base_estimator=None, learning_rate=1.0,\n",
      "                   n_estimators=50, random_state=None), 'sampling_strategy': 'majority'}\n",
      "1 CV - score: 0.6773                                                               \n",
      "2 CV - score: 0.7275                                                               \n",
      "3 CV - score: 0.684                                                                \n",
      "4 CV - score: 0.7079                                                               \n",
      "5 CV - score: 0.6557                                                               \n",
      "Total Time Run: 15.98                                                              \n",
      "Mean ROC_AUC: 0.690480707798937                                                    \n",
      "                                                                                   \n",
      "############## New Run ################\n",
      "params = {'base_estimator': DecisionTreeClassifier(class_weight=None, criterion='gini', max_depth=None,\n",
      "                       max_features=None, max_leaf_nodes=None,\n",
      "                       min_impurity_decrease=0.0, min_impurity_split=None,\n",
      "                       min_samples_leaf=1, min_samples_split=2,\n",
      "                       min_weight_fraction_leaf=0.0, presort=False,\n",
      "                       random_state=None, splitter='best'), 'sampling_strategy': 'not majority'}\n",
      "1 CV - score: 0.5089                                                               \n",
      "2 CV - score: 0.5264                                                               \n",
      "3 CV - score: 0.5007                                                               \n",
      "4 CV - score: 0.5165                                                               \n",
      "5 CV - score: 0.5102                                                               \n",
      "Total Time Run: 32.65                                                              \n",
      "Mean ROC_AUC: 0.5125353659672314                                                   \n",
      "                                                                                     \n",
      "############## New Run ################\n",
      "params = {'base_estimator': DecisionTreeClassifier(class_weight=None, criterion='gini', max_depth=None,\n",
      "                       max_features=None, max_leaf_nodes=None,\n",
      "                       min_impurity_decrease=0.0, min_impurity_split=None,\n",
      "                       min_samples_leaf=1, min_samples_split=2,\n",
      "                       min_weight_fraction_leaf=0.0, presort=False,\n",
      "                       random_state=None, splitter='best'), 'sampling_strategy': 'not minority'}\n",
      "1 CV - score: 0.6807                                                                 \n",
      "2 CV - score: 0.7036                                                                 \n",
      "3 CV - score: 0.6694                                                                 \n",
      "4 CV - score: 0.6719                                                                 \n",
      "5 CV - score: 0.6628                                                                 \n",
      "Total Time Run: 6.35                                                                 \n",
      "Mean ROC_AUC: 0.6776774763410994                                                     \n",
      "                                                                                     \n",
      "############## New Run ################\n",
      "params = {'base_estimator': AdaBoostClassifier(algorithm='SAMME.R', base_estimator=None, learning_rate=1.0,\n",
      "                   n_estimators=50, random_state=None), 'sampling_strategy': 'all'}\n",
      "1 CV - score: 0.6773                                                                \n",
      "2 CV - score: 0.7275                                                                \n",
      "3 CV - score: 0.684                                                                 \n",
      "4 CV - score: 0.7079                                                                \n",
      "5 CV - score: 0.6557                                                                \n",
      "Total Time Run: 15.93                                                               \n",
      "Mean ROC_AUC: 0.6904797767094012                                                    \n",
      "                                                                                    \n",
      "############## New Run ################\n",
      "params = {'base_estimator': AdaBoostClassifier(algorithm='SAMME.R', base_estimator=None, learning_rate=1.0,\n",
      "                   n_estimators=50, random_state=None), 'sampling_strategy': 'not majority'}\n",
      "1 CV - score: 0.6826                                                                \n",
      "2 CV - score: 0.7051                                                                \n",
      "3 CV - score: 0.6815                                                                \n",
      "4 CV - score: 0.7072                                                                \n",
      "5 CV - score: 0.6586                                                                \n",
      "Total Time Run: 252.97                                                              \n",
      "Mean ROC_AUC: 0.6870057551851865                                                    \n",
      "                                                                                      \n",
      "############## New Run ################\n",
      "params = {'base_estimator': AdaBoostClassifier(algorithm='SAMME.R', base_estimator=None, learning_rate=1.0,\n",
      "                   n_estimators=50, random_state=None), 'sampling_strategy': 'not minority'}\n",
      "1 CV - score: 0.6773                                                                  \n",
      "2 CV - score: 0.7275                                                                  \n",
      "3 CV - score: 0.684                                                                   \n",
      "4 CV - score: 0.7079                                                                  \n",
      "5 CV - score: 0.6557                                                                  \n",
      "Total Time Run: 15.98                                                                 \n",
      "Mean ROC_AUC: 0.690480707798937                                                       \n",
      "                                                                                      \n",
      "############## New Run ################\n",
      "params = {'base_estimator': AdaBoostClassifier(algorithm='SAMME.R', base_estimator=None, learning_rate=1.0,\n",
      "                   n_estimators=50, random_state=None), 'sampling_strategy': 'not minority'}\n",
      "1 CV - score: 0.6773                                                                 \n",
      "2 CV - score: 0.7275                                                                 \n",
      "3 CV - score: 0.684                                                                  \n",
      "4 CV - score: 0.7079                                                                 \n",
      "5 CV - score: 0.6557                                                                 \n",
      "Total Time Run: 15.91                                                                \n",
      "Mean ROC_AUC: 0.690480707798937                                                      \n",
      "                                                                                     \n",
      "############## New Run ################\n",
      "params = {'base_estimator': DecisionTreeClassifier(class_weight=None, criterion='gini', max_depth=None,\n",
      "                       max_features=None, max_leaf_nodes=None,\n",
      "                       min_impurity_decrease=0.0, min_impurity_split=None,\n",
      "                       min_samples_leaf=1, min_samples_split=2,\n",
      "                       min_weight_fraction_leaf=0.0, presort=False,\n",
      "                       random_state=None, splitter='best'), 'sampling_strategy': 0.7}\n",
      "1 CV - score: 0.6681                                                                 \n",
      "2 CV - score: 0.7042                                                                 \n",
      "3 CV - score: 0.658                                                                  \n",
      "4 CV - score: 0.6659                                                                 \n",
      "5 CV - score: 0.6622                                                                 \n",
      "Total Time Run: 6.3                                                                  \n",
      "Mean ROC_AUC: 0.6716679846839447                                                     \n",
      "                                                                                     \n",
      "############## New Run ################\n",
      "params = {'base_estimator': BernoulliNB(alpha=1.0, binarize=0.0, class_prior=None, fit_prior=True), 'sampling_strategy': 'not minority'}\n",
      "1 CV - score: 0.6576                                                                 \n",
      "2 CV - score: 0.7254                                                                 \n",
      "3 CV - score: 0.6809                                                                 \n",
      "4 CV - score: 0.6935                                                                 \n",
      "5 CV - score: 0.6651                                                                 \n",
      "Total Time Run: 7.26                                                                 \n",
      "Mean ROC_AUC: 0.684490306165839                                                      \n",
      "                                                                                     \n",
      "############## New Run ################\n"
     ]
    },
    {
     "name": "stdout",
     "output_type": "stream",
     "text": [
      "params = {'base_estimator': DecisionTreeClassifier(class_weight=None, criterion='gini', max_depth=None,\n",
      "                       max_features=None, max_leaf_nodes=None,\n",
      "                       min_impurity_decrease=0.0, min_impurity_split=None,\n",
      "                       min_samples_leaf=1, min_samples_split=2,\n",
      "                       min_weight_fraction_leaf=0.0, presort=False,\n",
      "                       random_state=None, splitter='best'), 'sampling_strategy': 0.8}\n",
      "1 CV - score: 0.6705                                                                 \n",
      "2 CV - score: 0.7079                                                                 \n",
      "3 CV - score: 0.6633                                                                 \n",
      "4 CV - score: 0.6732                                                                 \n",
      " 85%|████████▌ | 17/20 [7:20:02<1:24:28, 1689.64s/it, best loss: -0.6916605628090979]\n"
     ]
    },
    {
     "ename": "KeyboardInterrupt",
     "evalue": "",
     "output_type": "error",
     "traceback": [
      "\u001b[0;31m---------------------------------------------------------------------------\u001b[0m",
      "\u001b[0;31mKeyboardInterrupt\u001b[0m                         Traceback (most recent call last)",
      "\u001b[0;32m<ipython-input-31-cc7f4ef58750>\u001b[0m in \u001b[0;36m<module>\u001b[0;34m\u001b[0m\n\u001b[1;32m      3\u001b[0m             \u001b[0mspace\u001b[0m\u001b[0;34m=\u001b[0m\u001b[0mspaceEasy\u001b[0m\u001b[0;34m,\u001b[0m\u001b[0;34m\u001b[0m\u001b[0;34m\u001b[0m\u001b[0m\n\u001b[1;32m      4\u001b[0m             \u001b[0malgo\u001b[0m\u001b[0;34m=\u001b[0m\u001b[0mtpe\u001b[0m\u001b[0;34m.\u001b[0m\u001b[0msuggest\u001b[0m\u001b[0;34m,\u001b[0m\u001b[0;34m\u001b[0m\u001b[0;34m\u001b[0m\u001b[0m\n\u001b[0;32m----> 5\u001b[0;31m             max_evals=20)\n\u001b[0m\u001b[1;32m      6\u001b[0m \u001b[0;34m\u001b[0m\u001b[0m\n\u001b[1;32m      7\u001b[0m \u001b[0;31m# Print best parameters\u001b[0m\u001b[0;34m\u001b[0m\u001b[0;34m\u001b[0m\u001b[0;34m\u001b[0m\u001b[0m\n",
      "\u001b[0;32m~/anaconda3/lib/python3.6/site-packages/hyperopt/fmin.py\u001b[0m in \u001b[0;36mfmin\u001b[0;34m(fn, space, algo, max_evals, trials, rstate, allow_trials_fmin, pass_expr_memo_ctrl, catch_eval_exceptions, verbose, return_argmin, points_to_evaluate, max_queue_len, show_progressbar)\u001b[0m\n\u001b[1;32m    420\u001b[0m                     show_progressbar=show_progressbar)\n\u001b[1;32m    421\u001b[0m     \u001b[0mrval\u001b[0m\u001b[0;34m.\u001b[0m\u001b[0mcatch_eval_exceptions\u001b[0m \u001b[0;34m=\u001b[0m \u001b[0mcatch_eval_exceptions\u001b[0m\u001b[0;34m\u001b[0m\u001b[0;34m\u001b[0m\u001b[0m\n\u001b[0;32m--> 422\u001b[0;31m     \u001b[0mrval\u001b[0m\u001b[0;34m.\u001b[0m\u001b[0mexhaust\u001b[0m\u001b[0;34m(\u001b[0m\u001b[0;34m)\u001b[0m\u001b[0;34m\u001b[0m\u001b[0;34m\u001b[0m\u001b[0m\n\u001b[0m\u001b[1;32m    423\u001b[0m     \u001b[0;32mif\u001b[0m \u001b[0mreturn_argmin\u001b[0m\u001b[0;34m:\u001b[0m\u001b[0;34m\u001b[0m\u001b[0;34m\u001b[0m\u001b[0m\n\u001b[1;32m    424\u001b[0m         \u001b[0;32mif\u001b[0m \u001b[0mlen\u001b[0m\u001b[0;34m(\u001b[0m\u001b[0mtrials\u001b[0m\u001b[0;34m.\u001b[0m\u001b[0mtrials\u001b[0m\u001b[0;34m)\u001b[0m \u001b[0;34m==\u001b[0m \u001b[0;36m0\u001b[0m\u001b[0;34m:\u001b[0m\u001b[0;34m\u001b[0m\u001b[0;34m\u001b[0m\u001b[0m\n",
      "\u001b[0;32m~/anaconda3/lib/python3.6/site-packages/hyperopt/fmin.py\u001b[0m in \u001b[0;36mexhaust\u001b[0;34m(self)\u001b[0m\n\u001b[1;32m    274\u001b[0m     \u001b[0;32mdef\u001b[0m \u001b[0mexhaust\u001b[0m\u001b[0;34m(\u001b[0m\u001b[0mself\u001b[0m\u001b[0;34m)\u001b[0m\u001b[0;34m:\u001b[0m\u001b[0;34m\u001b[0m\u001b[0;34m\u001b[0m\u001b[0m\n\u001b[1;32m    275\u001b[0m         \u001b[0mn_done\u001b[0m \u001b[0;34m=\u001b[0m \u001b[0mlen\u001b[0m\u001b[0;34m(\u001b[0m\u001b[0mself\u001b[0m\u001b[0;34m.\u001b[0m\u001b[0mtrials\u001b[0m\u001b[0;34m)\u001b[0m\u001b[0;34m\u001b[0m\u001b[0;34m\u001b[0m\u001b[0m\n\u001b[0;32m--> 276\u001b[0;31m         \u001b[0mself\u001b[0m\u001b[0;34m.\u001b[0m\u001b[0mrun\u001b[0m\u001b[0;34m(\u001b[0m\u001b[0mself\u001b[0m\u001b[0;34m.\u001b[0m\u001b[0mmax_evals\u001b[0m \u001b[0;34m-\u001b[0m \u001b[0mn_done\u001b[0m\u001b[0;34m,\u001b[0m \u001b[0mblock_until_done\u001b[0m\u001b[0;34m=\u001b[0m\u001b[0mself\u001b[0m\u001b[0;34m.\u001b[0m\u001b[0masynchronous\u001b[0m\u001b[0;34m)\u001b[0m\u001b[0;34m\u001b[0m\u001b[0;34m\u001b[0m\u001b[0m\n\u001b[0m\u001b[1;32m    277\u001b[0m         \u001b[0mself\u001b[0m\u001b[0;34m.\u001b[0m\u001b[0mtrials\u001b[0m\u001b[0;34m.\u001b[0m\u001b[0mrefresh\u001b[0m\u001b[0;34m(\u001b[0m\u001b[0;34m)\u001b[0m\u001b[0;34m\u001b[0m\u001b[0;34m\u001b[0m\u001b[0m\n\u001b[1;32m    278\u001b[0m         \u001b[0;32mreturn\u001b[0m \u001b[0mself\u001b[0m\u001b[0;34m\u001b[0m\u001b[0;34m\u001b[0m\u001b[0m\n",
      "\u001b[0;32m~/anaconda3/lib/python3.6/site-packages/hyperopt/fmin.py\u001b[0m in \u001b[0;36mrun\u001b[0;34m(self, N, block_until_done)\u001b[0m\n\u001b[1;32m    239\u001b[0m                     \u001b[0;32melse\u001b[0m\u001b[0;34m:\u001b[0m\u001b[0;34m\u001b[0m\u001b[0;34m\u001b[0m\u001b[0m\n\u001b[1;32m    240\u001b[0m                         \u001b[0;31m# -- loop over trials and do the jobs directly\u001b[0m\u001b[0;34m\u001b[0m\u001b[0;34m\u001b[0m\u001b[0;34m\u001b[0m\u001b[0m\n\u001b[0;32m--> 241\u001b[0;31m                         \u001b[0mself\u001b[0m\u001b[0;34m.\u001b[0m\u001b[0mserial_evaluate\u001b[0m\u001b[0;34m(\u001b[0m\u001b[0;34m)\u001b[0m\u001b[0;34m\u001b[0m\u001b[0;34m\u001b[0m\u001b[0m\n\u001b[0m\u001b[1;32m    242\u001b[0m \u001b[0;34m\u001b[0m\u001b[0m\n\u001b[1;32m    243\u001b[0m                     \u001b[0;32mtry\u001b[0m\u001b[0;34m:\u001b[0m\u001b[0;34m\u001b[0m\u001b[0;34m\u001b[0m\u001b[0m\n",
      "\u001b[0;32m~/anaconda3/lib/python3.6/site-packages/hyperopt/fmin.py\u001b[0m in \u001b[0;36mserial_evaluate\u001b[0;34m(self, N)\u001b[0m\n\u001b[1;32m    139\u001b[0m                 \u001b[0mctrl\u001b[0m \u001b[0;34m=\u001b[0m \u001b[0mbase\u001b[0m\u001b[0;34m.\u001b[0m\u001b[0mCtrl\u001b[0m\u001b[0;34m(\u001b[0m\u001b[0mself\u001b[0m\u001b[0;34m.\u001b[0m\u001b[0mtrials\u001b[0m\u001b[0;34m,\u001b[0m \u001b[0mcurrent_trial\u001b[0m\u001b[0;34m=\u001b[0m\u001b[0mtrial\u001b[0m\u001b[0;34m)\u001b[0m\u001b[0;34m\u001b[0m\u001b[0;34m\u001b[0m\u001b[0m\n\u001b[1;32m    140\u001b[0m                 \u001b[0;32mtry\u001b[0m\u001b[0;34m:\u001b[0m\u001b[0;34m\u001b[0m\u001b[0;34m\u001b[0m\u001b[0m\n\u001b[0;32m--> 141\u001b[0;31m                     \u001b[0mresult\u001b[0m \u001b[0;34m=\u001b[0m \u001b[0mself\u001b[0m\u001b[0;34m.\u001b[0m\u001b[0mdomain\u001b[0m\u001b[0;34m.\u001b[0m\u001b[0mevaluate\u001b[0m\u001b[0;34m(\u001b[0m\u001b[0mspec\u001b[0m\u001b[0;34m,\u001b[0m \u001b[0mctrl\u001b[0m\u001b[0;34m)\u001b[0m\u001b[0;34m\u001b[0m\u001b[0;34m\u001b[0m\u001b[0m\n\u001b[0m\u001b[1;32m    142\u001b[0m                 \u001b[0;32mexcept\u001b[0m \u001b[0mException\u001b[0m \u001b[0;32mas\u001b[0m \u001b[0me\u001b[0m\u001b[0;34m:\u001b[0m\u001b[0;34m\u001b[0m\u001b[0;34m\u001b[0m\u001b[0m\n\u001b[1;32m    143\u001b[0m                     \u001b[0mlogger\u001b[0m\u001b[0;34m.\u001b[0m\u001b[0minfo\u001b[0m\u001b[0;34m(\u001b[0m\u001b[0;34m'job exception: %s'\u001b[0m \u001b[0;34m%\u001b[0m \u001b[0mstr\u001b[0m\u001b[0;34m(\u001b[0m\u001b[0me\u001b[0m\u001b[0;34m)\u001b[0m\u001b[0;34m)\u001b[0m\u001b[0;34m\u001b[0m\u001b[0;34m\u001b[0m\u001b[0m\n",
      "\u001b[0;32m~/anaconda3/lib/python3.6/site-packages/hyperopt/base.py\u001b[0m in \u001b[0;36mevaluate\u001b[0;34m(self, config, ctrl, attach_attachments)\u001b[0m\n\u001b[1;32m    854\u001b[0m                 \u001b[0mmemo\u001b[0m\u001b[0;34m=\u001b[0m\u001b[0mmemo\u001b[0m\u001b[0;34m,\u001b[0m\u001b[0;34m\u001b[0m\u001b[0;34m\u001b[0m\u001b[0m\n\u001b[1;32m    855\u001b[0m                 print_node_on_error=self.rec_eval_print_node_on_error)\n\u001b[0;32m--> 856\u001b[0;31m             \u001b[0mrval\u001b[0m \u001b[0;34m=\u001b[0m \u001b[0mself\u001b[0m\u001b[0;34m.\u001b[0m\u001b[0mfn\u001b[0m\u001b[0;34m(\u001b[0m\u001b[0mpyll_rval\u001b[0m\u001b[0;34m)\u001b[0m\u001b[0;34m\u001b[0m\u001b[0;34m\u001b[0m\u001b[0m\n\u001b[0m\u001b[1;32m    857\u001b[0m \u001b[0;34m\u001b[0m\u001b[0m\n\u001b[1;32m    858\u001b[0m         \u001b[0;32mif\u001b[0m \u001b[0misinstance\u001b[0m\u001b[0;34m(\u001b[0m\u001b[0mrval\u001b[0m\u001b[0;34m,\u001b[0m \u001b[0;34m(\u001b[0m\u001b[0mfloat\u001b[0m\u001b[0;34m,\u001b[0m \u001b[0mint\u001b[0m\u001b[0;34m,\u001b[0m \u001b[0mnp\u001b[0m\u001b[0;34m.\u001b[0m\u001b[0mnumber\u001b[0m\u001b[0;34m)\u001b[0m\u001b[0;34m)\u001b[0m\u001b[0;34m:\u001b[0m\u001b[0;34m\u001b[0m\u001b[0;34m\u001b[0m\u001b[0m\n",
      "\u001b[0;32m<ipython-input-29-4aaa495309c1>\u001b[0m in \u001b[0;36mobjectiveEasy\u001b[0;34m(params)\u001b[0m\n\u001b[1;32m     22\u001b[0m         \u001b[0my_tr\u001b[0m\u001b[0;34m,\u001b[0m \u001b[0my_vl\u001b[0m \u001b[0;34m=\u001b[0m \u001b[0my_train\u001b[0m\u001b[0;34m.\u001b[0m\u001b[0miloc\u001b[0m\u001b[0;34m[\u001b[0m\u001b[0mtr_idx\u001b[0m\u001b[0;34m]\u001b[0m\u001b[0;34m,\u001b[0m \u001b[0my_train\u001b[0m\u001b[0;34m.\u001b[0m\u001b[0miloc\u001b[0m\u001b[0;34m[\u001b[0m\u001b[0mval_idx\u001b[0m\u001b[0;34m]\u001b[0m\u001b[0;34m\u001b[0m\u001b[0;34m\u001b[0m\u001b[0m\n\u001b[1;32m     23\u001b[0m \u001b[0;34m\u001b[0m\u001b[0m\n\u001b[0;32m---> 24\u001b[0;31m         \u001b[0mclf\u001b[0m\u001b[0;34m.\u001b[0m\u001b[0mfit\u001b[0m\u001b[0;34m(\u001b[0m\u001b[0mX_tr\u001b[0m\u001b[0;34m,\u001b[0m \u001b[0my_tr\u001b[0m\u001b[0;34m.\u001b[0m\u001b[0mvalues\u001b[0m\u001b[0;34m.\u001b[0m\u001b[0mravel\u001b[0m\u001b[0;34m(\u001b[0m\u001b[0;34m)\u001b[0m\u001b[0;34m)\u001b[0m\u001b[0;34m\u001b[0m\u001b[0;34m\u001b[0m\u001b[0m\n\u001b[0m\u001b[1;32m     25\u001b[0m         \u001b[0mscore\u001b[0m \u001b[0;34m=\u001b[0m \u001b[0mmake_scorer\u001b[0m\u001b[0;34m(\u001b[0m\u001b[0mroc_auc_score\u001b[0m\u001b[0;34m,\u001b[0m \u001b[0mneeds_proba\u001b[0m\u001b[0;34m=\u001b[0m\u001b[0;32mTrue\u001b[0m\u001b[0;34m)\u001b[0m\u001b[0;34m(\u001b[0m\u001b[0mclf\u001b[0m\u001b[0;34m,\u001b[0m \u001b[0mX_vl\u001b[0m\u001b[0;34m,\u001b[0m \u001b[0my_vl\u001b[0m\u001b[0;34m)\u001b[0m\u001b[0;34m\u001b[0m\u001b[0;34m\u001b[0m\u001b[0m\n\u001b[1;32m     26\u001b[0m         \u001b[0mscore_mean\u001b[0m \u001b[0;34m+=\u001b[0m \u001b[0mscore\u001b[0m\u001b[0;34m\u001b[0m\u001b[0;34m\u001b[0m\u001b[0m\n",
      "\u001b[0;32m~/anaconda3/lib/python3.6/site-packages/imblearn/ensemble/_easy_ensemble.py\u001b[0m in \u001b[0;36mfit\u001b[0;34m(self, X, y)\u001b[0m\n\u001b[1;32m    294\u001b[0m         \u001b[0;31m# RandomUnderSampler is not supporting sample_weight. We need to pass\u001b[0m\u001b[0;34m\u001b[0m\u001b[0;34m\u001b[0m\u001b[0;34m\u001b[0m\u001b[0m\n\u001b[1;32m    295\u001b[0m         \u001b[0;31m# None.\u001b[0m\u001b[0;34m\u001b[0m\u001b[0;34m\u001b[0m\u001b[0;34m\u001b[0m\u001b[0m\n\u001b[0;32m--> 296\u001b[0;31m         \u001b[0;32mreturn\u001b[0m \u001b[0mself\u001b[0m\u001b[0;34m.\u001b[0m\u001b[0m_fit\u001b[0m\u001b[0;34m(\u001b[0m\u001b[0mX\u001b[0m\u001b[0;34m,\u001b[0m \u001b[0my\u001b[0m\u001b[0;34m,\u001b[0m \u001b[0mself\u001b[0m\u001b[0;34m.\u001b[0m\u001b[0mmax_samples\u001b[0m\u001b[0;34m,\u001b[0m \u001b[0msample_weight\u001b[0m\u001b[0;34m=\u001b[0m\u001b[0;32mNone\u001b[0m\u001b[0;34m)\u001b[0m\u001b[0;34m\u001b[0m\u001b[0;34m\u001b[0m\u001b[0m\n\u001b[0m",
      "\u001b[0;32m~/anaconda3/lib/python3.6/site-packages/sklearn/ensemble/bagging.py\u001b[0m in \u001b[0;36m_fit\u001b[0;34m(self, X, y, max_samples, max_depth, sample_weight)\u001b[0m\n\u001b[1;32m    377\u001b[0m                 \u001b[0mtotal_n_estimators\u001b[0m\u001b[0;34m,\u001b[0m\u001b[0;34m\u001b[0m\u001b[0;34m\u001b[0m\u001b[0m\n\u001b[1;32m    378\u001b[0m                 verbose=self.verbose)\n\u001b[0;32m--> 379\u001b[0;31m             for i in range(n_jobs))\n\u001b[0m\u001b[1;32m    380\u001b[0m \u001b[0;34m\u001b[0m\u001b[0m\n\u001b[1;32m    381\u001b[0m         \u001b[0;31m# Reduce\u001b[0m\u001b[0;34m\u001b[0m\u001b[0;34m\u001b[0m\u001b[0;34m\u001b[0m\u001b[0m\n",
      "\u001b[0;32m~/anaconda3/lib/python3.6/site-packages/joblib/parallel.py\u001b[0m in \u001b[0;36m__call__\u001b[0;34m(self, iterable)\u001b[0m\n\u001b[1;32m    787\u001b[0m                 \u001b[0;31m# consumption.\u001b[0m\u001b[0;34m\u001b[0m\u001b[0;34m\u001b[0m\u001b[0;34m\u001b[0m\u001b[0m\n\u001b[1;32m    788\u001b[0m                 \u001b[0mself\u001b[0m\u001b[0;34m.\u001b[0m\u001b[0m_iterating\u001b[0m \u001b[0;34m=\u001b[0m \u001b[0;32mFalse\u001b[0m\u001b[0;34m\u001b[0m\u001b[0;34m\u001b[0m\u001b[0m\n\u001b[0;32m--> 789\u001b[0;31m             \u001b[0mself\u001b[0m\u001b[0;34m.\u001b[0m\u001b[0mretrieve\u001b[0m\u001b[0;34m(\u001b[0m\u001b[0;34m)\u001b[0m\u001b[0;34m\u001b[0m\u001b[0;34m\u001b[0m\u001b[0m\n\u001b[0m\u001b[1;32m    790\u001b[0m             \u001b[0;31m# Make sure that we get a last message telling us we are done\u001b[0m\u001b[0;34m\u001b[0m\u001b[0;34m\u001b[0m\u001b[0;34m\u001b[0m\u001b[0m\n\u001b[1;32m    791\u001b[0m             \u001b[0melapsed_time\u001b[0m \u001b[0;34m=\u001b[0m \u001b[0mtime\u001b[0m\u001b[0;34m.\u001b[0m\u001b[0mtime\u001b[0m\u001b[0;34m(\u001b[0m\u001b[0;34m)\u001b[0m \u001b[0;34m-\u001b[0m \u001b[0mself\u001b[0m\u001b[0;34m.\u001b[0m\u001b[0m_start_time\u001b[0m\u001b[0;34m\u001b[0m\u001b[0;34m\u001b[0m\u001b[0m\n",
      "\u001b[0;32m~/anaconda3/lib/python3.6/site-packages/joblib/parallel.py\u001b[0m in \u001b[0;36mretrieve\u001b[0;34m(self)\u001b[0m\n\u001b[1;32m    697\u001b[0m             \u001b[0;32mtry\u001b[0m\u001b[0;34m:\u001b[0m\u001b[0;34m\u001b[0m\u001b[0;34m\u001b[0m\u001b[0m\n\u001b[1;32m    698\u001b[0m                 \u001b[0;32mif\u001b[0m \u001b[0mgetattr\u001b[0m\u001b[0;34m(\u001b[0m\u001b[0mself\u001b[0m\u001b[0;34m.\u001b[0m\u001b[0m_backend\u001b[0m\u001b[0;34m,\u001b[0m \u001b[0;34m'supports_timeout'\u001b[0m\u001b[0;34m,\u001b[0m \u001b[0;32mFalse\u001b[0m\u001b[0;34m)\u001b[0m\u001b[0;34m:\u001b[0m\u001b[0;34m\u001b[0m\u001b[0;34m\u001b[0m\u001b[0m\n\u001b[0;32m--> 699\u001b[0;31m                     \u001b[0mself\u001b[0m\u001b[0;34m.\u001b[0m\u001b[0m_output\u001b[0m\u001b[0;34m.\u001b[0m\u001b[0mextend\u001b[0m\u001b[0;34m(\u001b[0m\u001b[0mjob\u001b[0m\u001b[0;34m.\u001b[0m\u001b[0mget\u001b[0m\u001b[0;34m(\u001b[0m\u001b[0mtimeout\u001b[0m\u001b[0;34m=\u001b[0m\u001b[0mself\u001b[0m\u001b[0;34m.\u001b[0m\u001b[0mtimeout\u001b[0m\u001b[0;34m)\u001b[0m\u001b[0;34m)\u001b[0m\u001b[0;34m\u001b[0m\u001b[0;34m\u001b[0m\u001b[0m\n\u001b[0m\u001b[1;32m    700\u001b[0m                 \u001b[0;32melse\u001b[0m\u001b[0;34m:\u001b[0m\u001b[0;34m\u001b[0m\u001b[0;34m\u001b[0m\u001b[0m\n\u001b[1;32m    701\u001b[0m                     \u001b[0mself\u001b[0m\u001b[0;34m.\u001b[0m\u001b[0m_output\u001b[0m\u001b[0;34m.\u001b[0m\u001b[0mextend\u001b[0m\u001b[0;34m(\u001b[0m\u001b[0mjob\u001b[0m\u001b[0;34m.\u001b[0m\u001b[0mget\u001b[0m\u001b[0;34m(\u001b[0m\u001b[0;34m)\u001b[0m\u001b[0;34m)\u001b[0m\u001b[0;34m\u001b[0m\u001b[0;34m\u001b[0m\u001b[0m\n",
      "\u001b[0;32m~/anaconda3/lib/python3.6/multiprocessing/pool.py\u001b[0m in \u001b[0;36mget\u001b[0;34m(self, timeout)\u001b[0m\n\u001b[1;32m    636\u001b[0m \u001b[0;34m\u001b[0m\u001b[0m\n\u001b[1;32m    637\u001b[0m     \u001b[0;32mdef\u001b[0m \u001b[0mget\u001b[0m\u001b[0;34m(\u001b[0m\u001b[0mself\u001b[0m\u001b[0;34m,\u001b[0m \u001b[0mtimeout\u001b[0m\u001b[0;34m=\u001b[0m\u001b[0;32mNone\u001b[0m\u001b[0;34m)\u001b[0m\u001b[0;34m:\u001b[0m\u001b[0;34m\u001b[0m\u001b[0;34m\u001b[0m\u001b[0m\n\u001b[0;32m--> 638\u001b[0;31m         \u001b[0mself\u001b[0m\u001b[0;34m.\u001b[0m\u001b[0mwait\u001b[0m\u001b[0;34m(\u001b[0m\u001b[0mtimeout\u001b[0m\u001b[0;34m)\u001b[0m\u001b[0;34m\u001b[0m\u001b[0;34m\u001b[0m\u001b[0m\n\u001b[0m\u001b[1;32m    639\u001b[0m         \u001b[0;32mif\u001b[0m \u001b[0;32mnot\u001b[0m \u001b[0mself\u001b[0m\u001b[0;34m.\u001b[0m\u001b[0mready\u001b[0m\u001b[0;34m(\u001b[0m\u001b[0;34m)\u001b[0m\u001b[0;34m:\u001b[0m\u001b[0;34m\u001b[0m\u001b[0;34m\u001b[0m\u001b[0m\n\u001b[1;32m    640\u001b[0m             \u001b[0;32mraise\u001b[0m \u001b[0mTimeoutError\u001b[0m\u001b[0;34m\u001b[0m\u001b[0;34m\u001b[0m\u001b[0m\n",
      "\u001b[0;32m~/anaconda3/lib/python3.6/multiprocessing/pool.py\u001b[0m in \u001b[0;36mwait\u001b[0;34m(self, timeout)\u001b[0m\n\u001b[1;32m    633\u001b[0m \u001b[0;34m\u001b[0m\u001b[0m\n\u001b[1;32m    634\u001b[0m     \u001b[0;32mdef\u001b[0m \u001b[0mwait\u001b[0m\u001b[0;34m(\u001b[0m\u001b[0mself\u001b[0m\u001b[0;34m,\u001b[0m \u001b[0mtimeout\u001b[0m\u001b[0;34m=\u001b[0m\u001b[0;32mNone\u001b[0m\u001b[0;34m)\u001b[0m\u001b[0;34m:\u001b[0m\u001b[0;34m\u001b[0m\u001b[0;34m\u001b[0m\u001b[0m\n\u001b[0;32m--> 635\u001b[0;31m         \u001b[0mself\u001b[0m\u001b[0;34m.\u001b[0m\u001b[0m_event\u001b[0m\u001b[0;34m.\u001b[0m\u001b[0mwait\u001b[0m\u001b[0;34m(\u001b[0m\u001b[0mtimeout\u001b[0m\u001b[0;34m)\u001b[0m\u001b[0;34m\u001b[0m\u001b[0;34m\u001b[0m\u001b[0m\n\u001b[0m\u001b[1;32m    636\u001b[0m \u001b[0;34m\u001b[0m\u001b[0m\n\u001b[1;32m    637\u001b[0m     \u001b[0;32mdef\u001b[0m \u001b[0mget\u001b[0m\u001b[0;34m(\u001b[0m\u001b[0mself\u001b[0m\u001b[0;34m,\u001b[0m \u001b[0mtimeout\u001b[0m\u001b[0;34m=\u001b[0m\u001b[0;32mNone\u001b[0m\u001b[0;34m)\u001b[0m\u001b[0;34m:\u001b[0m\u001b[0;34m\u001b[0m\u001b[0;34m\u001b[0m\u001b[0m\n",
      "\u001b[0;32m~/anaconda3/lib/python3.6/threading.py\u001b[0m in \u001b[0;36mwait\u001b[0;34m(self, timeout)\u001b[0m\n\u001b[1;32m    549\u001b[0m             \u001b[0msignaled\u001b[0m \u001b[0;34m=\u001b[0m \u001b[0mself\u001b[0m\u001b[0;34m.\u001b[0m\u001b[0m_flag\u001b[0m\u001b[0;34m\u001b[0m\u001b[0;34m\u001b[0m\u001b[0m\n\u001b[1;32m    550\u001b[0m             \u001b[0;32mif\u001b[0m \u001b[0;32mnot\u001b[0m \u001b[0msignaled\u001b[0m\u001b[0;34m:\u001b[0m\u001b[0;34m\u001b[0m\u001b[0;34m\u001b[0m\u001b[0m\n\u001b[0;32m--> 551\u001b[0;31m                 \u001b[0msignaled\u001b[0m \u001b[0;34m=\u001b[0m \u001b[0mself\u001b[0m\u001b[0;34m.\u001b[0m\u001b[0m_cond\u001b[0m\u001b[0;34m.\u001b[0m\u001b[0mwait\u001b[0m\u001b[0;34m(\u001b[0m\u001b[0mtimeout\u001b[0m\u001b[0;34m)\u001b[0m\u001b[0;34m\u001b[0m\u001b[0;34m\u001b[0m\u001b[0m\n\u001b[0m\u001b[1;32m    552\u001b[0m             \u001b[0;32mreturn\u001b[0m \u001b[0msignaled\u001b[0m\u001b[0;34m\u001b[0m\u001b[0;34m\u001b[0m\u001b[0m\n\u001b[1;32m    553\u001b[0m \u001b[0;34m\u001b[0m\u001b[0m\n",
      "\u001b[0;32m~/anaconda3/lib/python3.6/threading.py\u001b[0m in \u001b[0;36mwait\u001b[0;34m(self, timeout)\u001b[0m\n\u001b[1;32m    293\u001b[0m         \u001b[0;32mtry\u001b[0m\u001b[0;34m:\u001b[0m    \u001b[0;31m# restore state no matter what (e.g., KeyboardInterrupt)\u001b[0m\u001b[0;34m\u001b[0m\u001b[0;34m\u001b[0m\u001b[0m\n\u001b[1;32m    294\u001b[0m             \u001b[0;32mif\u001b[0m \u001b[0mtimeout\u001b[0m \u001b[0;32mis\u001b[0m \u001b[0;32mNone\u001b[0m\u001b[0;34m:\u001b[0m\u001b[0;34m\u001b[0m\u001b[0;34m\u001b[0m\u001b[0m\n\u001b[0;32m--> 295\u001b[0;31m                 \u001b[0mwaiter\u001b[0m\u001b[0;34m.\u001b[0m\u001b[0macquire\u001b[0m\u001b[0;34m(\u001b[0m\u001b[0;34m)\u001b[0m\u001b[0;34m\u001b[0m\u001b[0;34m\u001b[0m\u001b[0m\n\u001b[0m\u001b[1;32m    296\u001b[0m                 \u001b[0mgotit\u001b[0m \u001b[0;34m=\u001b[0m \u001b[0;32mTrue\u001b[0m\u001b[0;34m\u001b[0m\u001b[0;34m\u001b[0m\u001b[0m\n\u001b[1;32m    297\u001b[0m             \u001b[0;32melse\u001b[0m\u001b[0;34m:\u001b[0m\u001b[0;34m\u001b[0m\u001b[0;34m\u001b[0m\u001b[0m\n",
      "\u001b[0;31mKeyboardInterrupt\u001b[0m: "
     ]
    }
   ],
   "source": [
    "# Set algoritm parameters\n",
    "bestEasy = fmin(fn=objectiveEasy,\n",
    "            space=spaceEasy,\n",
    "            algo=tpe.suggest,\n",
    "            max_evals=20)\n",
    "\n",
    "# Print best parameters\n",
    "bestEasy_params = space_eval(spacespaceEasy, bestEasy)"
   ]
  },
  {
   "cell_type": "code",
   "execution_count": null,
   "metadata": {
    "ExecuteTime": {
     "end_time": "2019-11-23T00:56:27.359150Z",
     "start_time": "2019-11-22T16:57:26.270Z"
    }
   },
   "outputs": [],
   "source": [
    "clf = EasyEnsembleClassifier(**bestEasy_params,\n",
    "                            random_state=0,\n",
    "                            n_estimators=300,\n",
    "                            n_jobs=-1,\n",
    "                            verbose=1)"
   ]
  },
  {
   "cell_type": "code",
   "execution_count": null,
   "metadata": {
    "ExecuteTime": {
     "end_time": "2019-11-23T00:56:27.361860Z",
     "start_time": "2019-11-22T16:57:26.275Z"
    }
   },
   "outputs": [],
   "source": [
    "# training roc\n",
    "y_train_pred = clf.predict_proba(X_train)[:,1]\n",
    "plotROC(y_train, y_train_pred)\n",
    "# test roc\n",
    "y_pred = clf.predict_proba(X_test)[:,1]\n",
    "plotROC(y_test, y_pred)"
   ]
  },
  {
   "cell_type": "code",
   "execution_count": null,
   "metadata": {
    "ExecuteTime": {
     "end_time": "2019-11-23T00:56:27.364917Z",
     "start_time": "2019-11-22T16:57:26.279Z"
    }
   },
   "outputs": [],
   "source": [
    "# fit all data\n",
    "clf.fit(X, y.values.ravel(), verbose=1)"
   ]
  },
  {
   "cell_type": "code",
   "execution_count": null,
   "metadata": {
    "ExecuteTime": {
     "end_time": "2019-11-23T00:56:27.367600Z",
     "start_time": "2019-11-22T16:57:26.284Z"
    }
   },
   "outputs": [],
   "source": [
    "y_pred = clf.predict_proba(X)[:, 1]\n",
    "plotROC(y, y_pred)\n",
    "roc_auc_score(y, y_pred)"
   ]
  },
  {
   "cell_type": "code",
   "execution_count": null,
   "metadata": {
    "ExecuteTime": {
     "end_time": "2019-11-23T00:56:27.369909Z",
     "start_time": "2019-11-22T16:57:26.290Z"
    }
   },
   "outputs": [],
   "source": [
    "# pridict\n",
    "result = pd.DataFrame()\n",
    "result['id'] = ids\n",
    "result['target'] = eec.predict_proba(testX)[:, 1]\n",
    "result.to_csv('../submissions/EasyEnsemble.csv', index=None)"
   ]
  },
  {
   "cell_type": "markdown",
   "metadata": {},
   "source": [
    "## Balanced Bagging Classifier"
   ]
  },
  {
   "cell_type": "markdown",
   "metadata": {},
   "source": [
    "### 简单尝试"
   ]
  },
  {
   "cell_type": "code",
   "execution_count": null,
   "metadata": {
    "ExecuteTime": {
     "end_time": "2019-11-23T00:56:27.372424Z",
     "start_time": "2019-11-22T16:57:26.297Z"
    }
   },
   "outputs": [],
   "source": [
    "bc = BalancedBaggingClassifier(base_estimator=AdaBoostClassifier(),\n",
    "                              random_state=42,\n",
    "                              n_estimators=300,\n",
    "                              n_jobs=-1,\n",
    "                              verbose=1)\n",
    "bc.fit(X_train, y_train)"
   ]
  },
  {
   "cell_type": "code",
   "execution_count": null,
   "metadata": {
    "ExecuteTime": {
     "end_time": "2019-11-23T00:56:27.374423Z",
     "start_time": "2019-11-22T16:57:26.303Z"
    }
   },
   "outputs": [],
   "source": [
    "# training data\n",
    "plotROC(y_train, bc.predict_proba(X_train)[:,1])"
   ]
  },
  {
   "cell_type": "code",
   "execution_count": null,
   "metadata": {
    "ExecuteTime": {
     "end_time": "2019-11-23T00:56:27.376592Z",
     "start_time": "2019-11-22T16:57:26.307Z"
    }
   },
   "outputs": [],
   "source": [
    "confusion_matrix(y_train, bc.predict(X_train))"
   ]
  },
  {
   "cell_type": "code",
   "execution_count": null,
   "metadata": {
    "ExecuteTime": {
     "end_time": "2019-11-23T00:56:27.378911Z",
     "start_time": "2019-11-22T16:57:26.311Z"
    }
   },
   "outputs": [],
   "source": [
    "# test data\n",
    "y_pred_class = bc.predict(X_test)\n",
    "# balanced_accuracy_score(y_test, y_pred_class)\n",
    "confusion_matrix(y_test, y_pred_class)"
   ]
  },
  {
   "cell_type": "code",
   "execution_count": null,
   "metadata": {
    "ExecuteTime": {
     "end_time": "2019-11-23T00:56:27.381156Z",
     "start_time": "2019-11-22T16:57:26.314Z"
    }
   },
   "outputs": [],
   "source": [
    "y_pred = bc.predict_proba(X_test)[:, 1]\n",
    "plotROC(y_test, y_pred)"
   ]
  },
  {
   "cell_type": "markdown",
   "metadata": {},
   "source": [
    "### 调参"
   ]
  },
  {
   "cell_type": "code",
   "execution_count": null,
   "metadata": {
    "ExecuteTime": {
     "end_time": "2019-11-23T00:56:27.382418Z",
     "start_time": "2019-11-22T16:57:26.320Z"
    }
   },
   "outputs": [],
   "source": [
    "def objectiveBalance(params):\n",
    "    time1 = time.time()\n",
    "    params = {\n",
    "        'base_estimator': params['base_estimator'](),\n",
    "        'sampling_strategy': params['sampling_strategy'],\n",
    "    }\n",
    "\n",
    "    print(\"\\n############## New Run ################\")\n",
    "    print(f\"params = {params}\")\n",
    "    FOLDS = 5\n",
    "    count = 1\n",
    "    skf = StratifiedKFold(n_splits=FOLDS, shuffle=True, random_state=42)\n",
    "    score_mean = 0\n",
    "    for tr_idx, val_idx in skf.split(X_train, y_train.values.ravel()):\n",
    "        clf = BalancedBaggingClassifier(**params,\n",
    "                                    random_state=0,\n",
    "                                    n_estimators=300,\n",
    "                                    n_jobs=-1,\n",
    "                                    verbose=0)\n",
    "\n",
    "        X_tr, X_vl = X_train.iloc[tr_idx, :], X_train.iloc[val_idx, :]\n",
    "        y_tr, y_vl = y_train.iloc[tr_idx], y_train.iloc[val_idx]\n",
    "        \n",
    "        clf.fit(X_tr, y_tr.values.ravel())\n",
    "        score = make_scorer(roc_auc_score, needs_proba=True)(clf, X_vl, y_vl)\n",
    "        score_mean += score\n",
    "        print(f'{count} CV - score: {round(score, 4)}')\n",
    "        count += 1\n",
    "    time2 = time.time() - time1\n",
    "    print(f\"Total Time Run: {round(time2 / 60,2)}\")\n",
    "    gc.collect()\n",
    "    print(f'Mean ROC_AUC: {score_mean / FOLDS}')\n",
    "    del X_tr, X_vl, y_tr, y_vl, clf, score\n",
    "    return -(score_mean / FOLDS)"
   ]
  },
  {
   "cell_type": "code",
   "execution_count": null,
   "metadata": {
    "ExecuteTime": {
     "end_time": "2019-11-23T00:56:27.384309Z",
     "start_time": "2019-11-22T16:57:26.323Z"
    }
   },
   "outputs": [],
   "source": [
    "spaceBalance = spaceEasy"
   ]
  },
  {
   "cell_type": "code",
   "execution_count": null,
   "metadata": {
    "ExecuteTime": {
     "end_time": "2019-11-23T00:56:27.385947Z",
     "start_time": "2019-11-22T16:57:26.326Z"
    }
   },
   "outputs": [],
   "source": [
    "# Set algoritm parameters\n",
    "bestBalance = fmin(fn=objectiveBalance,\n",
    "            space=spaceBalance,\n",
    "            algo=tpe.suggest,\n",
    "            max_evals=20)\n",
    "\n",
    "# Print best parameters\n",
    "bestBalance_params = space_eval(spaceBalance, bestBalance)"
   ]
  },
  {
   "cell_type": "code",
   "execution_count": null,
   "metadata": {
    "ExecuteTime": {
     "end_time": "2019-11-23T00:56:27.387277Z",
     "start_time": "2019-11-22T16:57:26.330Z"
    }
   },
   "outputs": [],
   "source": [
    "clf = BalancedBaggingClassifier(**bestBalance_params,\n",
    "                                random_state=0,\n",
    "                                n_estimators=300,\n",
    "                                n_jobs=-1,\n",
    "                                verbose=0)"
   ]
  },
  {
   "cell_type": "code",
   "execution_count": null,
   "metadata": {
    "ExecuteTime": {
     "end_time": "2019-11-23T00:56:27.388965Z",
     "start_time": "2019-11-22T16:57:26.336Z"
    }
   },
   "outputs": [],
   "source": [
    "# training roc\n",
    "y_train_pred = clf.predict_proba(X_train)[:,1]\n",
    "plotROC(y_train, y_train_pred)\n",
    "# test roc\n",
    "y_pred = clf.predict_proba(X_test)[:,1]\n",
    "plotROC(y_test, y_pred)"
   ]
  },
  {
   "cell_type": "code",
   "execution_count": null,
   "metadata": {
    "ExecuteTime": {
     "end_time": "2019-11-23T00:56:27.390917Z",
     "start_time": "2019-11-22T16:57:26.341Z"
    }
   },
   "outputs": [],
   "source": [
    "# train with all data\n",
    "clf.fit(X, y.values.ravel(), verbose=1)"
   ]
  },
  {
   "cell_type": "code",
   "execution_count": null,
   "metadata": {
    "ExecuteTime": {
     "end_time": "2019-11-23T00:56:27.392861Z",
     "start_time": "2019-11-22T16:57:26.344Z"
    }
   },
   "outputs": [],
   "source": [
    "y_pred = clf.predict_proba(X)[:, 1]\n",
    "plotROC(y, y_pred)\n",
    "roc_auc_score(y, y_pred)"
   ]
  },
  {
   "cell_type": "code",
   "execution_count": null,
   "metadata": {
    "ExecuteTime": {
     "end_time": "2019-11-23T00:56:27.394798Z",
     "start_time": "2019-11-22T16:57:26.348Z"
    }
   },
   "outputs": [],
   "source": [
    "result = pd.DataFrame()\n",
    "result['id'] = ids\n",
    "result['target'] = bc.predict_proba(testX)[:, 1]\n",
    "result.to_csv('../submissions/BalancedBaggingClassifier.csv', index=None)"
   ]
  },
  {
   "cell_type": "code",
   "execution_count": null,
   "metadata": {},
   "outputs": [],
   "source": []
  }
 ],
 "metadata": {
  "file_extension": ".py",
  "kernelspec": {
   "display_name": "Python 3",
   "language": "python",
   "name": "python3"
  },
  "language_info": {
   "codemirror_mode": {
    "name": "ipython",
    "version": 3
   },
   "file_extension": ".py",
   "mimetype": "text/x-python",
   "name": "python",
   "nbconvert_exporter": "python",
   "pygments_lexer": "ipython3",
   "version": "3.6.8"
  },
  "mimetype": "text/x-python",
  "name": "python",
  "npconvert_exporter": "python",
  "pygments_lexer": "ipython3",
  "toc": {
   "nav_menu": {},
   "number_sections": false,
   "sideBar": true,
   "skip_h1_title": false,
   "title_cell": "Table of Contents",
   "title_sidebar": "Contents",
   "toc_cell": false,
   "toc_position": {
    "height": "490px",
    "left": "1060.93px",
    "top": "54px",
    "width": "305.067px"
   },
   "toc_section_display": true,
   "toc_window_display": true
  },
  "version": 3
 },
 "nbformat": 4,
 "nbformat_minor": 1
}
